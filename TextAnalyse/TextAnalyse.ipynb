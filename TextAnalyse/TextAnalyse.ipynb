{
 "cells": [
  {
   "cell_type": "code",
   "execution_count": 1,
   "metadata": {
    "collapsed": true,
    "ExecuteTime": {
     "end_time": "2024-02-13T21:32:22.523227845Z",
     "start_time": "2024-02-13T21:32:13.445801396Z"
    }
   },
   "outputs": [
    {
     "name": "stderr",
     "output_type": "stream",
     "text": [
      "/tmp/ipykernel_12013/309569093.py:2: DeprecationWarning: \n",
      "Pyarrow will become a required dependency of pandas in the next major release of pandas (pandas 3.0),\n",
      "(to allow more performant data types, such as the Arrow string type, and better interoperability with other libraries)\n",
      "but was not found to be installed on your system.\n",
      "If this would cause problems for you,\n",
      "please provide us feedback at https://github.com/pandas-dev/pandas/issues/54466\n",
      "        \n",
      "  import pandas as pd\n"
     ]
    },
    {
     "name": "stdout",
     "output_type": "stream",
     "text": [
      "Accuracy: 0.8651\n",
      "Classification Report:\n",
      "               precision    recall  f1-score   support\n",
      "\n",
      "    negative       0.86      0.88      0.87      4961\n",
      "    positive       0.88      0.85      0.86      5039\n",
      "\n",
      "    accuracy                           0.87     10000\n",
      "   macro avg       0.87      0.87      0.87     10000\n",
      "weighted avg       0.87      0.87      0.87     10000\n",
      "\n"
     ]
    }
   ],
   "source": [
    "import re\n",
    "import pandas as pd\n",
    "from sklearn.model_selection import train_test_split\n",
    "from sklearn.feature_extraction.text import TfidfVectorizer\n",
    "from sklearn.naive_bayes import MultinomialNB\n",
    "from sklearn.pipeline import make_pipeline\n",
    "from sklearn.metrics import classification_report, accuracy_score\n",
    "\n",
    "# Считывание датасета\n",
    "file_path = 'IMDB Dataset.csv'\n",
    "dataset = pd.read_csv(file_path)\n",
    "\n",
    "# Предварительная обработка данных: очистка текста от HTML-тегов и знаков пунктуации\n",
    "def clean_text(text):\n",
    "    text = re.sub('<.*?>', '', text)  # Удаление HTML тегов\n",
    "    text = re.sub('[^a-zA-Z]', ' ', text)  # Удаление знаков пунктуации\n",
    "    return text.lower()\n",
    "\n",
    "# Применение функции очистки к столбцу с отзывами\n",
    "dataset['review'] = dataset['review'].apply(clean_text)\n",
    "\n",
    "# Векторизация текста с использованием TF-IDF\n",
    "tfidf = TfidfVectorizer(stop_words='english')\n",
    "\n",
    "# Разделение данных на обучающую и тестовую выборки\n",
    "X_train, X_test, y_train, y_test = train_test_split(dataset['review'], dataset['sentiment'], test_size=0.2, random_state=42)\n",
    "\n",
    "# Создание и обучение модели\n",
    "model = make_pipeline(tfidf, MultinomialNB())\n",
    "model.fit(X_train, y_train)\n",
    "\n",
    "# Предсказание и оценка модели\n",
    "predictions = model.predict(X_test)\n",
    "accuracy = accuracy_score(y_test, predictions)\n",
    "report = classification_report(y_test, predictions)\n",
    "\n",
    "print(\"Accuracy:\", accuracy)\n",
    "print(\"Classification Report:\\n\", report)\n"
   ]
  },
  {
   "cell_type": "code",
   "execution_count": 6,
   "outputs": [
    {
     "name": "stdout",
     "output_type": "stream",
     "text": [
      "Accuracy: 0.8562\n",
      "Classification Report:\n",
      "               precision    recall  f1-score   support\n",
      "\n",
      "    negative       0.84      0.88      0.86      4961\n",
      "    positive       0.87      0.84      0.85      5039\n",
      "\n",
      "    accuracy                           0.86     10000\n",
      "   macro avg       0.86      0.86      0.86     10000\n",
      "weighted avg       0.86      0.86      0.86     10000\n",
      "\n"
     ]
    }
   ],
   "source": [
    "import pandas as pd\n",
    "from sklearn.model_selection import train_test_split\n",
    "from sklearn.feature_extraction.text import CountVectorizer\n",
    "from sklearn.naive_bayes import MultinomialNB\n",
    "from sklearn.pipeline import make_pipeline\n",
    "from sklearn.metrics import classification_report, accuracy_score\n",
    "import re\n",
    "\n",
    "# Считывание датасета\n",
    "file_path = 'IMDB Dataset.csv'\n",
    "dataset = pd.read_csv(file_path)\n",
    "\n",
    "# Предварительная обработка данных: очистка текста от HTML-тегов и знаков пунктуации\n",
    "def clean_text(text):\n",
    "    text = re.sub('<.*?>', '', text)  # Удаление HTML тегов\n",
    "    text = re.sub('[^a-zA-Z]', ' ', text)  # Удаление знаков пунктуации\n",
    "    return text.lower()\n",
    "\n",
    "# Применение функции очистки к столбцу с отзывами\n",
    "dataset['review'] = dataset['review'].apply(clean_text)\n",
    "\n",
    "# Векторизация текста с использованием метода \"мешок слов\"\n",
    "count_vect = CountVectorizer(stop_words='english')\n",
    "\n",
    "# Разделение данных на обучающую и тестовую выборки\n",
    "X_train, X_test, y_train, y_test = train_test_split(dataset['review'], dataset['sentiment'], test_size=0.2, random_state=42)\n",
    "\n",
    "# Создание и обучение модели\n",
    "model = make_pipeline(count_vect, MultinomialNB())\n",
    "model.fit(X_train, y_train)\n",
    "\n",
    "# Предсказание и оценка модели\n",
    "predictions = model.predict(X_test)\n",
    "accuracy = accuracy_score(y_test, predictions)\n",
    "report = classification_report(y_test, predictions)\n",
    "\n",
    "print(\"Accuracy:\", accuracy)\n",
    "print(\"Classification Report:\\n\", report)\n"
   ],
   "metadata": {
    "collapsed": false,
    "ExecuteTime": {
     "end_time": "2024-02-13T22:25:19.510375105Z",
     "start_time": "2024-02-13T22:25:11.113313201Z"
    }
   }
  },
  {
   "cell_type": "code",
   "execution_count": 10,
   "outputs": [
    {
     "name": "stdout",
     "output_type": "stream",
     "text": [
      "Предсказанное настроение отзыва: positive\n"
     ]
    }
   ],
   "source": [
    "def predict_sentiment(text):\n",
    "    # Предварительная обработка ввода\n",
    "    cleaned_text = clean_text(text)  # Используем ту же функцию очистки, что и раньше\n",
    "    # Получение предсказания модели\n",
    "    prediction = model.predict([cleaned_text])\n",
    "    return prediction[0]\n",
    "\n",
    "\n",
    "# Пример использования\n",
    "input_text = input(\"Введите текст отзыва: \")\n",
    "sentiment = predict_sentiment(input_text)\n",
    "print(\"Предсказанное настроение отзыва:\", sentiment)\n"
   ],
   "metadata": {
    "collapsed": false,
    "ExecuteTime": {
     "end_time": "2024-02-13T22:34:13.668557393Z",
     "start_time": "2024-02-13T22:33:49.428387534Z"
    }
   }
  },
  {
   "cell_type": "code",
   "execution_count": null,
   "outputs": [],
   "source": [],
   "metadata": {
    "collapsed": false
   }
  }
 ],
 "metadata": {
  "kernelspec": {
   "display_name": "Python 3",
   "language": "python",
   "name": "python3"
  },
  "language_info": {
   "codemirror_mode": {
    "name": "ipython",
    "version": 2
   },
   "file_extension": ".py",
   "mimetype": "text/x-python",
   "name": "python",
   "nbconvert_exporter": "python",
   "pygments_lexer": "ipython2",
   "version": "2.7.6"
  }
 },
 "nbformat": 4,
 "nbformat_minor": 0
}
