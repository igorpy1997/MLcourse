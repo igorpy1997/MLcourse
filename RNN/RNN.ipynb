{
 "cells": [
  {
   "cell_type": "code",
   "execution_count": 1,
   "metadata": {
    "collapsed": true,
    "ExecuteTime": {
     "end_time": "2024-02-27T19:41:53.896776046Z",
     "start_time": "2024-02-27T19:40:10.433509453Z"
    }
   },
   "outputs": [
    {
     "name": "stderr",
     "output_type": "stream",
     "text": [
      "2024-02-27 20:40:10.735823: I external/local_tsl/tsl/cuda/cudart_stub.cc:31] Could not find cuda drivers on your machine, GPU will not be used.\n",
      "2024-02-27 20:40:10.768877: E external/local_xla/xla/stream_executor/cuda/cuda_dnn.cc:9261] Unable to register cuDNN factory: Attempting to register factory for plugin cuDNN when one has already been registered\n",
      "2024-02-27 20:40:10.768903: E external/local_xla/xla/stream_executor/cuda/cuda_fft.cc:607] Unable to register cuFFT factory: Attempting to register factory for plugin cuFFT when one has already been registered\n",
      "2024-02-27 20:40:10.769911: E external/local_xla/xla/stream_executor/cuda/cuda_blas.cc:1515] Unable to register cuBLAS factory: Attempting to register factory for plugin cuBLAS when one has already been registered\n",
      "2024-02-27 20:40:10.775156: I external/local_tsl/tsl/cuda/cudart_stub.cc:31] Could not find cuda drivers on your machine, GPU will not be used.\n",
      "2024-02-27 20:40:10.775571: I tensorflow/core/platform/cpu_feature_guard.cc:182] This TensorFlow binary is optimized to use available CPU instructions in performance-critical operations.\n",
      "To enable the following instructions: AVX2 FMA, in other operations, rebuild TensorFlow with the appropriate compiler flags.\n",
      "2024-02-27 20:40:11.503777: W tensorflow/compiler/tf2tensorrt/utils/py_utils.cc:38] TF-TRT Warning: Could not find TensorRT\n"
     ]
    },
    {
     "name": "stdout",
     "output_type": "stream",
     "text": [
      "Downloading data from https://storage.googleapis.com/tensorflow/tf-keras-datasets/imdb.npz\n",
      "17464789/17464789 [==============================] - 1s 0us/step\n",
      "Epoch 1/10\n",
      "157/157 [==============================] - 10s 59ms/step - loss: 0.6826 - accuracy: 0.5602 - val_loss: 0.6772 - val_accuracy: 0.5518\n",
      "Epoch 2/10\n",
      "157/157 [==============================] - 9s 56ms/step - loss: 0.6292 - accuracy: 0.6515 - val_loss: 0.6250 - val_accuracy: 0.6330\n",
      "Epoch 3/10\n",
      "157/157 [==============================] - 9s 57ms/step - loss: 0.4482 - accuracy: 0.8134 - val_loss: 0.4224 - val_accuracy: 0.8206\n",
      "Epoch 4/10\n",
      "157/157 [==============================] - 9s 57ms/step - loss: 0.2399 - accuracy: 0.9082 - val_loss: 0.5014 - val_accuracy: 0.7636\n",
      "Epoch 5/10\n",
      "157/157 [==============================] - 9s 57ms/step - loss: 0.1155 - accuracy: 0.9657 - val_loss: 0.4709 - val_accuracy: 0.8134\n",
      "Epoch 6/10\n",
      "157/157 [==============================] - 9s 57ms/step - loss: 0.0491 - accuracy: 0.9901 - val_loss: 0.5281 - val_accuracy: 0.8012\n",
      "Epoch 7/10\n",
      "157/157 [==============================] - 9s 56ms/step - loss: 0.0250 - accuracy: 0.9962 - val_loss: 0.5799 - val_accuracy: 0.8164\n",
      "Epoch 8/10\n",
      "157/157 [==============================] - 9s 57ms/step - loss: 0.0121 - accuracy: 0.9989 - val_loss: 0.6074 - val_accuracy: 0.8092\n",
      "Epoch 9/10\n",
      "157/157 [==============================] - 9s 56ms/step - loss: 0.0059 - accuracy: 0.9997 - val_loss: 0.6137 - val_accuracy: 0.8216\n",
      "Epoch 10/10\n",
      "157/157 [==============================] - 9s 55ms/step - loss: 0.0032 - accuracy: 0.9999 - val_loss: 0.6408 - val_accuracy: 0.8206\n",
      "782/782 [==============================] - 7s 9ms/step - loss: 0.6343 - accuracy: 0.8207\n",
      "Test Accuracy: 0.8207200169563293\n"
     ]
    }
   ],
   "source": [
    "import tensorflow as tf\n",
    "from tensorflow.keras.datasets import imdb\n",
    "from tensorflow.keras.preprocessing.sequence import pad_sequences\n",
    "from tensorflow.keras.models import Sequential\n",
    "from tensorflow.keras.layers import Embedding, SimpleRNN, Dense\n",
    "\n",
    "# Load the IMDB dataset\n",
    "vocab_size = 10000  # Specify the size of the vocabulary\n",
    "(x_train, y_train), (x_test, y_test) = imdb.load_data(num_words=vocab_size)  # Load data\n",
    "\n",
    "# Data Preparation\n",
    "maxlen = 500  # Maximum length of a review\n",
    "x_train = pad_sequences(x_train, maxlen=maxlen)  # Padding the training data\n",
    "x_test = pad_sequences(x_test, maxlen=maxlen)  # Padding the test data\n",
    "\n",
    "# Build the RNN model\n",
    "model = Sequential()\n",
    "model.add(Embedding(vocab_size, 32))  # Embedding layer for text input\n",
    "model.add(SimpleRNN(32))  # Simple RNN layer with 32 units\n",
    "model.add(Dense(1, activation='sigmoid'))  # Output layer with sigmoid activation for binary classification\n",
    "\n",
    "# Compile the model\n",
    "model.compile(optimizer='adam', loss='binary_crossentropy', metrics=['accuracy'])  # Using Adam optimizer and binary crossentropy loss\n",
    "\n",
    "# Train the model\n",
    "model.fit(x_train, y_train, epochs=10, batch_size=128, validation_split=0.2)  # Training the model with validation split\n",
    "\n",
    "# Evaluate the model's performance\n",
    "test_loss, test_acc = model.evaluate(x_test, y_test)  # Evaluating the model on test data\n",
    "print('Test Accuracy:', test_acc)  # Printing the test accuracy\n"
   ]
  },
  {
   "cell_type": "code",
   "execution_count": null,
   "outputs": [],
   "source": [],
   "metadata": {
    "collapsed": false
   }
  }
 ],
 "metadata": {
  "kernelspec": {
   "display_name": "Python 3",
   "language": "python",
   "name": "python3"
  },
  "language_info": {
   "codemirror_mode": {
    "name": "ipython",
    "version": 2
   },
   "file_extension": ".py",
   "mimetype": "text/x-python",
   "name": "python",
   "nbconvert_exporter": "python",
   "pygments_lexer": "ipython2",
   "version": "2.7.6"
  }
 },
 "nbformat": 4,
 "nbformat_minor": 0
}
