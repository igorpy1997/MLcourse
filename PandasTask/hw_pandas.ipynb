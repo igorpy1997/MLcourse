{
 "cells": [
  {
   "cell_type": "markdown",
   "metadata": {},
   "source": [
    "<center>\n",
    "<img src=\"../../img/ods_stickers.jpg\">\n",
    "## Открытый курс по машинному обучению\n",
    "<center>\n",
    "Автор материала: Юрий Кашницкий, программист-исследователь Mail.Ru Group <br> \n",
    "\n",
    "Материал распространяется на условиях лицензии [Creative Commons CC BY-NC-SA 4.0](https://creativecommons.org/licenses/by-nc-sa/4.0/). Можно использовать в любых целях (редактировать, поправлять и брать за основу), кроме коммерческих, но с обязательным упоминанием автора материала."
   ]
  },
  {
   "cell_type": "markdown",
   "metadata": {},
   "source": [
    "# <center>Домашнее задание № 1 (демо).<br> Анализ данных по доходу населения UCI Adult</center>"
   ]
  },
  {
   "cell_type": "markdown",
   "metadata": {},
   "source": [
    "**В задании предлагается с помощью Pandas ответить на несколько вопросов по данным репозитория UCI [Adult](https://archive.ics.uci.edu/ml/datasets/Adult) (качать данные не надо – они уже есть в репозитории).**"
   ]
  },
  {
   "cell_type": "markdown",
   "metadata": {},
   "source": [
    "Уникальные значения признаков (больше информации по ссылке выше):\n",
    "- age: continuous.\n",
    "- workclass: Private, Self-emp-not-inc, Self-emp-inc, Federal-gov, Local-gov, State-gov, Without-pay, Never-worked.\n",
    "- fnlwgt: continuous.\n",
    "- education: Bachelors, Some-college, 11th, HS-grad, Prof-school, Assoc-acdm, Assoc-voc, 9th, 7th-8th, 12th, Masters, 1st-4th, 10th, Doctorate, 5th-6th, Preschool.\n",
    "- education-num: continuous.\n",
    "- marital-status: Married-civ-spouse, Divorced, Never-married, Separated, Widowed, Married-spouse-absent, Married-AF-spouse.\n",
    "- occupation: Tech-support, Craft-repair, Other-service, Sales, Exec-managerial, Prof-specialty, Handlers-cleaners, Machine-op-inspct, Adm-clerical, Farming-fishing, Transport-moving, Priv-house-serv, Protective-serv, Armed-Forces.\n",
    "- relationship: Wife, Own-child, Husband, Not-in-family, Other-relative, Unmarried.\n",
    "- race: White, Asian-Pac-Islander, Amer-Indian-Eskimo, Other, Black.\n",
    "- sex: Female, Male.\n",
    "- capital-gain: continuous.\n",
    "- capital-loss: continuous.\n",
    "- hours-per-week: continuous.\n",
    "- native-country: United-States, Cambodia, England, Puerto-Rico, Canada, Germany, Outlying-US(Guam-USVI-etc), India, Japan, Greece, South, China, Cuba, Iran, Honduras, Philippines, Italy, Poland, Jamaica, Vietnam, Mexico, Portugal, Ireland, France, Dominican-Republic, Laos, Ecuador, Taiwan, Haiti, Columbia, Hungary, Guatemala, Nicaragua, Scotland, Thailand, Yugoslavia, El-Salvador, Trinadad&Tobago, Peru, Hong, Holand-Netherlands.   \n",
    "- salary: >50K,<=50K"
   ]
  },
  {
   "cell_type": "code",
   "execution_count": 2,
   "metadata": {
    "ExecuteTime": {
     "end_time": "2024-01-02T20:32:24.941807250Z",
     "start_time": "2024-01-02T20:32:24.706447152Z"
    }
   },
   "outputs": [],
   "source": [
    "import pandas as pd"
   ]
  },
  {
   "cell_type": "code",
   "execution_count": 3,
   "metadata": {
    "ExecuteTime": {
     "end_time": "2024-01-02T20:32:27.153988490Z",
     "start_time": "2024-01-02T20:32:27.068883509Z"
    }
   },
   "outputs": [
    {
     "data": {
      "text/plain": "     age         workclass  fnlwgt     education  education-num  \\\n0     39         State-gov   77516     Bachelors             13   \n1     50  Self-emp-not-inc   83311     Bachelors             13   \n2     38           Private  215646       HS-grad              9   \n3     53           Private  234721          11th              7   \n4     28           Private  338409     Bachelors             13   \n..   ...               ...     ...           ...            ...   \n995   56           Private  112840       HS-grad              9   \n996   45           Private   89325       Masters             14   \n997   48       Federal-gov   33109     Bachelors             13   \n998   40           Private   82465  Some-college             10   \n999   39      Self-emp-inc  329980     Bachelors             13   \n\n         marital-status         occupation   relationship   race     sex  \\\n0         Never-married       Adm-clerical  Not-in-family  White    Male   \n1    Married-civ-spouse    Exec-managerial        Husband  White    Male   \n2              Divorced  Handlers-cleaners  Not-in-family  White    Male   \n3    Married-civ-spouse  Handlers-cleaners        Husband  Black    Male   \n4    Married-civ-spouse     Prof-specialty           Wife  Black  Female   \n..                  ...                ...            ...    ...     ...   \n995  Married-civ-spouse    Exec-managerial        Husband  White    Male   \n996            Divorced     Prof-specialty  Not-in-family  White    Male   \n997            Divorced    Exec-managerial      Unmarried  White    Male   \n998  Married-civ-spouse  Machine-op-inspct        Husband  White    Male   \n999  Married-civ-spouse    Exec-managerial        Husband  White    Male   \n\n     capital-gain  capital-loss  hours-per-week native-country salary  \n0            2174             0              40  United-States  <=50K  \n1               0             0              13  United-States  <=50K  \n2               0             0              40  United-States  <=50K  \n3               0             0              40  United-States  <=50K  \n4               0             0              40           Cuba  <=50K  \n..            ...           ...             ...            ...    ...  \n995             0             0              55  United-States   >50K  \n996             0             0              45  United-States  <=50K  \n997             0             0              58  United-States   >50K  \n998          2580             0              40  United-States  <=50K  \n999         15024             0              50  United-States   >50K  \n\n[1000 rows x 15 columns]",
      "text/html": "<div>\n<style scoped>\n    .dataframe tbody tr th:only-of-type {\n        vertical-align: middle;\n    }\n\n    .dataframe tbody tr th {\n        vertical-align: top;\n    }\n\n    .dataframe thead th {\n        text-align: right;\n    }\n</style>\n<table border=\"1\" class=\"dataframe\">\n  <thead>\n    <tr style=\"text-align: right;\">\n      <th></th>\n      <th>age</th>\n      <th>workclass</th>\n      <th>fnlwgt</th>\n      <th>education</th>\n      <th>education-num</th>\n      <th>marital-status</th>\n      <th>occupation</th>\n      <th>relationship</th>\n      <th>race</th>\n      <th>sex</th>\n      <th>capital-gain</th>\n      <th>capital-loss</th>\n      <th>hours-per-week</th>\n      <th>native-country</th>\n      <th>salary</th>\n    </tr>\n  </thead>\n  <tbody>\n    <tr>\n      <th>0</th>\n      <td>39</td>\n      <td>State-gov</td>\n      <td>77516</td>\n      <td>Bachelors</td>\n      <td>13</td>\n      <td>Never-married</td>\n      <td>Adm-clerical</td>\n      <td>Not-in-family</td>\n      <td>White</td>\n      <td>Male</td>\n      <td>2174</td>\n      <td>0</td>\n      <td>40</td>\n      <td>United-States</td>\n      <td>&lt;=50K</td>\n    </tr>\n    <tr>\n      <th>1</th>\n      <td>50</td>\n      <td>Self-emp-not-inc</td>\n      <td>83311</td>\n      <td>Bachelors</td>\n      <td>13</td>\n      <td>Married-civ-spouse</td>\n      <td>Exec-managerial</td>\n      <td>Husband</td>\n      <td>White</td>\n      <td>Male</td>\n      <td>0</td>\n      <td>0</td>\n      <td>13</td>\n      <td>United-States</td>\n      <td>&lt;=50K</td>\n    </tr>\n    <tr>\n      <th>2</th>\n      <td>38</td>\n      <td>Private</td>\n      <td>215646</td>\n      <td>HS-grad</td>\n      <td>9</td>\n      <td>Divorced</td>\n      <td>Handlers-cleaners</td>\n      <td>Not-in-family</td>\n      <td>White</td>\n      <td>Male</td>\n      <td>0</td>\n      <td>0</td>\n      <td>40</td>\n      <td>United-States</td>\n      <td>&lt;=50K</td>\n    </tr>\n    <tr>\n      <th>3</th>\n      <td>53</td>\n      <td>Private</td>\n      <td>234721</td>\n      <td>11th</td>\n      <td>7</td>\n      <td>Married-civ-spouse</td>\n      <td>Handlers-cleaners</td>\n      <td>Husband</td>\n      <td>Black</td>\n      <td>Male</td>\n      <td>0</td>\n      <td>0</td>\n      <td>40</td>\n      <td>United-States</td>\n      <td>&lt;=50K</td>\n    </tr>\n    <tr>\n      <th>4</th>\n      <td>28</td>\n      <td>Private</td>\n      <td>338409</td>\n      <td>Bachelors</td>\n      <td>13</td>\n      <td>Married-civ-spouse</td>\n      <td>Prof-specialty</td>\n      <td>Wife</td>\n      <td>Black</td>\n      <td>Female</td>\n      <td>0</td>\n      <td>0</td>\n      <td>40</td>\n      <td>Cuba</td>\n      <td>&lt;=50K</td>\n    </tr>\n    <tr>\n      <th>...</th>\n      <td>...</td>\n      <td>...</td>\n      <td>...</td>\n      <td>...</td>\n      <td>...</td>\n      <td>...</td>\n      <td>...</td>\n      <td>...</td>\n      <td>...</td>\n      <td>...</td>\n      <td>...</td>\n      <td>...</td>\n      <td>...</td>\n      <td>...</td>\n      <td>...</td>\n    </tr>\n    <tr>\n      <th>995</th>\n      <td>56</td>\n      <td>Private</td>\n      <td>112840</td>\n      <td>HS-grad</td>\n      <td>9</td>\n      <td>Married-civ-spouse</td>\n      <td>Exec-managerial</td>\n      <td>Husband</td>\n      <td>White</td>\n      <td>Male</td>\n      <td>0</td>\n      <td>0</td>\n      <td>55</td>\n      <td>United-States</td>\n      <td>&gt;50K</td>\n    </tr>\n    <tr>\n      <th>996</th>\n      <td>45</td>\n      <td>Private</td>\n      <td>89325</td>\n      <td>Masters</td>\n      <td>14</td>\n      <td>Divorced</td>\n      <td>Prof-specialty</td>\n      <td>Not-in-family</td>\n      <td>White</td>\n      <td>Male</td>\n      <td>0</td>\n      <td>0</td>\n      <td>45</td>\n      <td>United-States</td>\n      <td>&lt;=50K</td>\n    </tr>\n    <tr>\n      <th>997</th>\n      <td>48</td>\n      <td>Federal-gov</td>\n      <td>33109</td>\n      <td>Bachelors</td>\n      <td>13</td>\n      <td>Divorced</td>\n      <td>Exec-managerial</td>\n      <td>Unmarried</td>\n      <td>White</td>\n      <td>Male</td>\n      <td>0</td>\n      <td>0</td>\n      <td>58</td>\n      <td>United-States</td>\n      <td>&gt;50K</td>\n    </tr>\n    <tr>\n      <th>998</th>\n      <td>40</td>\n      <td>Private</td>\n      <td>82465</td>\n      <td>Some-college</td>\n      <td>10</td>\n      <td>Married-civ-spouse</td>\n      <td>Machine-op-inspct</td>\n      <td>Husband</td>\n      <td>White</td>\n      <td>Male</td>\n      <td>2580</td>\n      <td>0</td>\n      <td>40</td>\n      <td>United-States</td>\n      <td>&lt;=50K</td>\n    </tr>\n    <tr>\n      <th>999</th>\n      <td>39</td>\n      <td>Self-emp-inc</td>\n      <td>329980</td>\n      <td>Bachelors</td>\n      <td>13</td>\n      <td>Married-civ-spouse</td>\n      <td>Exec-managerial</td>\n      <td>Husband</td>\n      <td>White</td>\n      <td>Male</td>\n      <td>15024</td>\n      <td>0</td>\n      <td>50</td>\n      <td>United-States</td>\n      <td>&gt;50K</td>\n    </tr>\n  </tbody>\n</table>\n<p>1000 rows × 15 columns</p>\n</div>"
     },
     "execution_count": 3,
     "metadata": {},
     "output_type": "execute_result"
    }
   ],
   "source": [
    "data = pd.read_csv('adult.data.csv')\n",
    "data.head(1000)"
   ]
  },
  {
   "cell_type": "markdown",
   "metadata": {},
   "source": [
    "**1. Сколько мужчин и женщин (признак *sex*) представлено в этом наборе данных?**"
   ]
  },
  {
   "cell_type": "code",
   "execution_count": 4,
   "metadata": {
    "collapsed": true,
    "ExecuteTime": {
     "end_time": "2024-01-02T20:32:30.686242187Z",
     "start_time": "2024-01-02T20:32:30.681841647Z"
    }
   },
   "outputs": [
    {
     "data": {
      "text/plain": "(21790, 10771)"
     },
     "execution_count": 4,
     "metadata": {},
     "output_type": "execute_result"
    }
   ],
   "source": [
    "male_count = (data[\"sex\"] == \"Male\").sum()\n",
    "female_count = (data[\"sex\"] == \"Female\").sum()\n",
    "male_count, female_count"
   ]
  },
  {
   "cell_type": "markdown",
   "metadata": {},
   "source": [
    "**2. Каков средний возраст (признак *age*) женщин?**"
   ]
  },
  {
   "cell_type": "code",
   "execution_count": 5,
   "metadata": {
    "collapsed": true,
    "ExecuteTime": {
     "end_time": "2024-01-02T20:32:35.642518567Z",
     "start_time": "2024-01-02T20:32:35.628668534Z"
    }
   },
   "outputs": [
    {
     "data": {
      "text/plain": "36.85823043357163"
     },
     "execution_count": 5,
     "metadata": {},
     "output_type": "execute_result"
    }
   ],
   "source": [
    "woman = data[data[\"sex\"] == \"Female\"]\n",
    "woman[\"age\"].mean()"
   ]
  },
  {
   "cell_type": "markdown",
   "metadata": {},
   "source": [
    "**3. Какова доля граждан Германии (признак *native-country*)?**"
   ]
  },
  {
   "cell_type": "code",
   "execution_count": 11,
   "metadata": {
    "collapsed": true,
    "ExecuteTime": {
     "end_time": "2024-01-02T21:25:32.023923958Z",
     "start_time": "2024-01-02T21:25:31.978185737Z"
    }
   },
   "outputs": [
    {
     "data": {
      "text/plain": "0.004207487485028101"
     },
     "execution_count": 11,
     "metadata": {},
     "output_type": "execute_result"
    }
   ],
   "source": [
    "(data[\"native-country\"] == \"Germany\").sum()"
   ]
  },
  {
   "cell_type": "markdown",
   "metadata": {},
   "source": [
    "**4-5. Каковы средние значения и среднеквадратичные отклонения возраста тех, кто получает более 50K в год (признак *salary*) и тех, кто получает менее 50K в год? **"
   ]
  },
  {
   "cell_type": "code",
   "execution_count": 20,
   "metadata": {
    "collapsed": true,
    "ExecuteTime": {
     "end_time": "2024-01-02T14:41:59.150411810Z",
     "start_time": "2024-01-02T14:41:59.139116649Z"
    }
   },
   "outputs": [
    {
     "data": {
      "text/plain": "             mean        std\nsalary                      \n<=50K   36.783738  14.020088\n>50K    44.249841  10.519028",
      "text/html": "<div>\n<style scoped>\n    .dataframe tbody tr th:only-of-type {\n        vertical-align: middle;\n    }\n\n    .dataframe tbody tr th {\n        vertical-align: top;\n    }\n\n    .dataframe thead th {\n        text-align: right;\n    }\n</style>\n<table border=\"1\" class=\"dataframe\">\n  <thead>\n    <tr style=\"text-align: right;\">\n      <th></th>\n      <th>mean</th>\n      <th>std</th>\n    </tr>\n    <tr>\n      <th>salary</th>\n      <th></th>\n      <th></th>\n    </tr>\n  </thead>\n  <tbody>\n    <tr>\n      <th>&lt;=50K</th>\n      <td>36.783738</td>\n      <td>14.020088</td>\n    </tr>\n    <tr>\n      <th>&gt;50K</th>\n      <td>44.249841</td>\n      <td>10.519028</td>\n    </tr>\n  </tbody>\n</table>\n</div>"
     },
     "execution_count": 20,
     "metadata": {},
     "output_type": "execute_result"
    }
   ],
   "source": [
    "data2 = data.dropna(subset=['age'])\n",
    "statistics = data2.groupby('salary')['age'].agg(['mean', 'std'])\n",
    "statistics"
   ]
  },
  {
   "cell_type": "markdown",
   "metadata": {},
   "source": [
    "**6. Правда ли, что люди, которые получают больше 50k, имеют как минимум высшее образование? (признак *education – Bachelors, Prof-school, Assoc-acdm, Assoc-voc, Masters* или *Doctorate*)**"
   ]
  },
  {
   "cell_type": "code",
   "execution_count": 24,
   "metadata": {
    "collapsed": true,
    "ExecuteTime": {
     "end_time": "2024-01-02T17:36:04.872265909Z",
     "start_time": "2024-01-02T17:36:04.863396781Z"
    }
   },
   "outputs": [
    {
     "data": {
      "text/plain": "False"
     },
     "execution_count": 24,
     "metadata": {},
     "output_type": "execute_result"
    }
   ],
   "source": [
    "education_levels = [\"Bachelors\", \"Prof-school\", \"Assoc-acdm\", \"Assoc-voc\", \"Masters\", \"Doctorate\"]\n",
    "more_thn50K = data[data[\"salary\"]==\">50K\"]\n",
    "result = more_thn50K[\"education\"].isin(education_levels).all()\n",
    "result"
   ]
  },
  {
   "cell_type": "markdown",
   "metadata": {},
   "source": [
    "**7. Выведите статистику возраста для каждой расы (признак *race*) и каждого пола. Используйте *groupby* и *describe*. Найдите таким образом максимальный возраст мужчин расы *Amer-Indian-Eskimo*.**"
   ]
  },
  {
   "cell_type": "code",
   "execution_count": 27,
   "metadata": {
    "collapsed": true,
    "ExecuteTime": {
     "end_time": "2024-01-02T17:47:13.899832426Z",
     "start_time": "2024-01-02T17:47:13.866766961Z"
    }
   },
   "outputs": [
    {
     "data": {
      "text/plain": "(                             count       mean        std   min   25%   50%  \\\n race               sex                                                       \n Amer-Indian-Eskimo Female    119.0  37.117647  13.114991  17.0  27.0  36.0   \n                    Male      192.0  37.208333  12.049563  17.0  28.0  35.0   \n Asian-Pac-Islander Female    346.0  35.089595  12.300845  17.0  25.0  33.0   \n                    Male      693.0  39.073593  12.883944  18.0  29.0  37.0   \n Black              Female   1555.0  37.854019  12.637197  17.0  28.0  37.0   \n                    Male     1569.0  37.682600  12.882612  17.0  27.0  36.0   \n Other              Female    109.0  31.678899  11.631599  17.0  23.0  29.0   \n                    Male      162.0  34.654321  11.355531  17.0  26.0  32.0   \n White              Female   8642.0  36.811618  14.329093  17.0  25.0  35.0   \n                    Male    19174.0  39.652498  13.436029  17.0  29.0  38.0   \n \n                              75%   max  \n race               sex                  \n Amer-Indian-Eskimo Female  46.00  80.0  \n                    Male    45.00  82.0  \n Asian-Pac-Islander Female  43.75  75.0  \n                    Male    46.00  90.0  \n Black              Female  46.00  90.0  \n                    Male    46.00  90.0  \n Other              Female  39.00  74.0  \n                    Male    42.00  77.0  \n White              Female  46.00  90.0  \n                    Male    49.00  90.0  ,\n 82.0)"
     },
     "execution_count": 27,
     "metadata": {},
     "output_type": "execute_result"
    }
   ],
   "source": [
    "stats = data.groupby([\"race\", \"sex\"])['age'].describe()\n",
    "max_age_amer_indian_eskimo_male = stats.loc[(\"Amer-Indian-Eskimo\", \"Male\"), \"max\"]\n",
    "stats, max_age_amer_indian_eskimo_male"
   ]
  },
  {
   "cell_type": "markdown",
   "metadata": {},
   "source": [
    "**8. Среди кого больше доля зарабатывающих много (>50K): среди женатых или холостых мужчин (признак *marital-status*)? Женатыми считаем тех, у кого *marital-status* начинается с *Married* (Married-civ-spouse, Married-spouse-absent или Married-AF-spouse), остальных считаем холостыми.**"
   ]
  },
  {
   "cell_type": "code",
   "execution_count": 10,
   "metadata": {
    "collapsed": true,
    "ExecuteTime": {
     "end_time": "2024-01-02T20:35:08.768903874Z",
     "start_time": "2024-01-02T20:35:08.762231774Z"
    }
   },
   "outputs": [
    {
     "data": {
      "text/plain": "(0.8953767637346143, 0.10462323626538576)"
     },
     "execution_count": 10,
     "metadata": {},
     "output_type": "execute_result"
    }
   ],
   "source": [
    "man = data[(data[\"sex\"]==\"Male\") & (data[\"salary\"]==\">50K\")]\n",
    "maried_man_over_50k = man[man[\"marital-status\"].str.contains(\"Married\")].shape[0]\n",
    "not_maried_man_over50k = man[~man[\"marital-status\"].str.contains(\"Married\")].shape[0]\n",
    "maried_man_over_50k, not_maried_man_over50k\n",
    "\n",
    "\n",
    "\n"
   ]
  },
  {
   "cell_type": "markdown",
   "metadata": {},
   "source": [
    "**9. Какое максимальное число часов человек работает в неделю (признак *hours-per-week*)? Сколько людей работают такое количество часов и каков среди них процент зарабатывающих много?**"
   ]
  },
  {
   "cell_type": "code",
   "execution_count": 41,
   "metadata": {
    "collapsed": true,
    "ExecuteTime": {
     "end_time": "2024-01-02T18:27:18.540414715Z",
     "start_time": "2024-01-02T18:27:18.537919430Z"
    }
   },
   "outputs": [
    {
     "data": {
      "text/plain": "(85, 29.411764705882355)"
     },
     "execution_count": 41,
     "metadata": {},
     "output_type": "execute_result"
    }
   ],
   "source": [
    "max_hours = data['hours-per-week'].max()\n",
    "hard_working_guys = data[data[\"hours-per-week\"]==max_hours]\n",
    "hard_working_guys_count = hard_working_guys.shape[0]\n",
    "hard_working_guys_over50K_count = hard_working_guys[hard_working_guys[\"salary\"]==\">50K\"].shape[0]\n",
    "percentage_relation = (hard_working_guys_over50K_count/hard_working_guys_count)*100\n",
    "hard_working_guys_count, percentage_relation"
   ]
  },
  {
   "cell_type": "markdown",
   "metadata": {},
   "source": [
    "**10. Посчитайте среднее время работы (*hours-per-week*) зарабатывающих мало и много (*salary*) для каждой страны (*native-country*).**"
   ]
  },
  {
   "cell_type": "code",
   "execution_count": 44,
   "metadata": {
    "collapsed": true,
    "ExecuteTime": {
     "end_time": "2024-01-02T18:30:45.820436667Z",
     "start_time": "2024-01-02T18:30:45.804079815Z"
    }
   },
   "outputs": [
    {
     "data": {
      "text/plain": "salary                          <=50K       >50K\nnative-country                                  \n?                           40.164760  45.547945\nCambodia                    41.416667  40.000000\nCanada                      37.914634  45.641026\nChina                       37.381818  38.900000\nColumbia                    38.684211  50.000000\nCuba                        37.985714  42.440000\nDominican-Republic          42.338235  47.000000\nEcuador                     38.041667  48.750000\nEl-Salvador                 36.030928  45.000000\nEngland                     40.483333  44.533333\nFrance                      41.058824  50.750000\nGermany                     39.139785  44.977273\nGreece                      41.809524  50.625000\nGuatemala                   39.360656  36.666667\nHaiti                       36.325000  42.750000\nHoland-Netherlands          40.000000        NaN\nHonduras                    34.333333  60.000000\nHong                        39.142857  45.000000\nHungary                     31.300000  50.000000\nIndia                       38.233333  46.475000\nIran                        41.440000  47.500000\nIreland                     40.947368  48.000000\nItaly                       39.625000  45.400000\nJamaica                     38.239437  41.100000\nJapan                       41.000000  47.958333\nLaos                        40.375000  40.000000\nMexico                      40.003279  46.575758\nNicaragua                   36.093750  37.500000\nOutlying-US(Guam-USVI-etc)  41.857143        NaN\nPeru                        35.068966  40.000000\nPhilippines                 38.065693  43.032787\nPoland                      38.166667  39.000000\nPortugal                    41.939394  41.500000\nPuerto-Rico                 38.470588  39.416667\nScotland                    39.444444  46.666667\nSouth                       40.156250  51.437500\nTaiwan                      33.774194  46.800000\nThailand                    42.866667  58.333333\nTrinadad&Tobago             37.058824  40.000000\nUnited-States               38.799127  45.505369\nVietnam                     37.193548  39.200000\nYugoslavia                  41.600000  49.500000",
      "text/html": "<div>\n<style scoped>\n    .dataframe tbody tr th:only-of-type {\n        vertical-align: middle;\n    }\n\n    .dataframe tbody tr th {\n        vertical-align: top;\n    }\n\n    .dataframe thead th {\n        text-align: right;\n    }\n</style>\n<table border=\"1\" class=\"dataframe\">\n  <thead>\n    <tr style=\"text-align: right;\">\n      <th>salary</th>\n      <th>&lt;=50K</th>\n      <th>&gt;50K</th>\n    </tr>\n    <tr>\n      <th>native-country</th>\n      <th></th>\n      <th></th>\n    </tr>\n  </thead>\n  <tbody>\n    <tr>\n      <th>?</th>\n      <td>40.164760</td>\n      <td>45.547945</td>\n    </tr>\n    <tr>\n      <th>Cambodia</th>\n      <td>41.416667</td>\n      <td>40.000000</td>\n    </tr>\n    <tr>\n      <th>Canada</th>\n      <td>37.914634</td>\n      <td>45.641026</td>\n    </tr>\n    <tr>\n      <th>China</th>\n      <td>37.381818</td>\n      <td>38.900000</td>\n    </tr>\n    <tr>\n      <th>Columbia</th>\n      <td>38.684211</td>\n      <td>50.000000</td>\n    </tr>\n    <tr>\n      <th>Cuba</th>\n      <td>37.985714</td>\n      <td>42.440000</td>\n    </tr>\n    <tr>\n      <th>Dominican-Republic</th>\n      <td>42.338235</td>\n      <td>47.000000</td>\n    </tr>\n    <tr>\n      <th>Ecuador</th>\n      <td>38.041667</td>\n      <td>48.750000</td>\n    </tr>\n    <tr>\n      <th>El-Salvador</th>\n      <td>36.030928</td>\n      <td>45.000000</td>\n    </tr>\n    <tr>\n      <th>England</th>\n      <td>40.483333</td>\n      <td>44.533333</td>\n    </tr>\n    <tr>\n      <th>France</th>\n      <td>41.058824</td>\n      <td>50.750000</td>\n    </tr>\n    <tr>\n      <th>Germany</th>\n      <td>39.139785</td>\n      <td>44.977273</td>\n    </tr>\n    <tr>\n      <th>Greece</th>\n      <td>41.809524</td>\n      <td>50.625000</td>\n    </tr>\n    <tr>\n      <th>Guatemala</th>\n      <td>39.360656</td>\n      <td>36.666667</td>\n    </tr>\n    <tr>\n      <th>Haiti</th>\n      <td>36.325000</td>\n      <td>42.750000</td>\n    </tr>\n    <tr>\n      <th>Holand-Netherlands</th>\n      <td>40.000000</td>\n      <td>NaN</td>\n    </tr>\n    <tr>\n      <th>Honduras</th>\n      <td>34.333333</td>\n      <td>60.000000</td>\n    </tr>\n    <tr>\n      <th>Hong</th>\n      <td>39.142857</td>\n      <td>45.000000</td>\n    </tr>\n    <tr>\n      <th>Hungary</th>\n      <td>31.300000</td>\n      <td>50.000000</td>\n    </tr>\n    <tr>\n      <th>India</th>\n      <td>38.233333</td>\n      <td>46.475000</td>\n    </tr>\n    <tr>\n      <th>Iran</th>\n      <td>41.440000</td>\n      <td>47.500000</td>\n    </tr>\n    <tr>\n      <th>Ireland</th>\n      <td>40.947368</td>\n      <td>48.000000</td>\n    </tr>\n    <tr>\n      <th>Italy</th>\n      <td>39.625000</td>\n      <td>45.400000</td>\n    </tr>\n    <tr>\n      <th>Jamaica</th>\n      <td>38.239437</td>\n      <td>41.100000</td>\n    </tr>\n    <tr>\n      <th>Japan</th>\n      <td>41.000000</td>\n      <td>47.958333</td>\n    </tr>\n    <tr>\n      <th>Laos</th>\n      <td>40.375000</td>\n      <td>40.000000</td>\n    </tr>\n    <tr>\n      <th>Mexico</th>\n      <td>40.003279</td>\n      <td>46.575758</td>\n    </tr>\n    <tr>\n      <th>Nicaragua</th>\n      <td>36.093750</td>\n      <td>37.500000</td>\n    </tr>\n    <tr>\n      <th>Outlying-US(Guam-USVI-etc)</th>\n      <td>41.857143</td>\n      <td>NaN</td>\n    </tr>\n    <tr>\n      <th>Peru</th>\n      <td>35.068966</td>\n      <td>40.000000</td>\n    </tr>\n    <tr>\n      <th>Philippines</th>\n      <td>38.065693</td>\n      <td>43.032787</td>\n    </tr>\n    <tr>\n      <th>Poland</th>\n      <td>38.166667</td>\n      <td>39.000000</td>\n    </tr>\n    <tr>\n      <th>Portugal</th>\n      <td>41.939394</td>\n      <td>41.500000</td>\n    </tr>\n    <tr>\n      <th>Puerto-Rico</th>\n      <td>38.470588</td>\n      <td>39.416667</td>\n    </tr>\n    <tr>\n      <th>Scotland</th>\n      <td>39.444444</td>\n      <td>46.666667</td>\n    </tr>\n    <tr>\n      <th>South</th>\n      <td>40.156250</td>\n      <td>51.437500</td>\n    </tr>\n    <tr>\n      <th>Taiwan</th>\n      <td>33.774194</td>\n      <td>46.800000</td>\n    </tr>\n    <tr>\n      <th>Thailand</th>\n      <td>42.866667</td>\n      <td>58.333333</td>\n    </tr>\n    <tr>\n      <th>Trinadad&amp;Tobago</th>\n      <td>37.058824</td>\n      <td>40.000000</td>\n    </tr>\n    <tr>\n      <th>United-States</th>\n      <td>38.799127</td>\n      <td>45.505369</td>\n    </tr>\n    <tr>\n      <th>Vietnam</th>\n      <td>37.193548</td>\n      <td>39.200000</td>\n    </tr>\n    <tr>\n      <th>Yugoslavia</th>\n      <td>41.600000</td>\n      <td>49.500000</td>\n    </tr>\n  </tbody>\n</table>\n</div>"
     },
     "execution_count": 44,
     "metadata": {},
     "output_type": "execute_result"
    }
   ],
   "source": [
    "average_hours_by_country_and_salary = data.groupby(['native-country', 'salary'])['hours-per-week'].mean().unstack()\n",
    "average_hours_by_country_and_salary\n"
   ]
  },
  {
   "cell_type": "code",
   "execution_count": null,
   "outputs": [],
   "source": [],
   "metadata": {
    "collapsed": false
   }
  }
 ],
 "metadata": {
  "anaconda-cloud": {},
  "kernelspec": {
   "display_name": "Python 3",
   "language": "python",
   "name": "python3"
  },
  "language_info": {
   "codemirror_mode": {
    "name": "ipython",
    "version": 3
   },
   "file_extension": ".py",
   "mimetype": "text/x-python",
   "name": "python",
   "nbconvert_exporter": "python",
   "pygments_lexer": "ipython3",
   "version": "3.6.6"
  }
 },
 "nbformat": 4,
 "nbformat_minor": 1
}
