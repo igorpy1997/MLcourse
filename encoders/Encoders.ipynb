{
 "cells": [
  {
   "cell_type": "code",
   "execution_count": 34,
   "metadata": {
    "collapsed": true,
    "ExecuteTime": {
     "end_time": "2024-01-23T17:40:04.588606734Z",
     "start_time": "2024-01-23T17:39:58.852165226Z"
    }
   },
   "outputs": [
    {
     "data": {
      "text/plain": "  Sex  Length  Diameter  Height  Whole_weight  Shucked_weight  Viscera_weight  \\\n0   M   0.455     0.365   0.095        0.5140          0.2245          0.1010   \n1   M   0.350     0.265   0.090        0.2255          0.0995          0.0485   \n2   F   0.530     0.420   0.135        0.6770          0.2565          0.1415   \n3   M   0.440     0.365   0.125        0.5160          0.2155          0.1140   \n4   I   0.330     0.255   0.080        0.2050          0.0895          0.0395   \n\n   Shell_weight  \n0         0.150  \n1         0.070  \n2         0.210  \n3         0.155  \n4         0.055  ",
      "text/html": "<div>\n<style scoped>\n    .dataframe tbody tr th:only-of-type {\n        vertical-align: middle;\n    }\n\n    .dataframe tbody tr th {\n        vertical-align: top;\n    }\n\n    .dataframe thead th {\n        text-align: right;\n    }\n</style>\n<table border=\"1\" class=\"dataframe\">\n  <thead>\n    <tr style=\"text-align: right;\">\n      <th></th>\n      <th>Sex</th>\n      <th>Length</th>\n      <th>Diameter</th>\n      <th>Height</th>\n      <th>Whole_weight</th>\n      <th>Shucked_weight</th>\n      <th>Viscera_weight</th>\n      <th>Shell_weight</th>\n    </tr>\n  </thead>\n  <tbody>\n    <tr>\n      <th>0</th>\n      <td>M</td>\n      <td>0.455</td>\n      <td>0.365</td>\n      <td>0.095</td>\n      <td>0.5140</td>\n      <td>0.2245</td>\n      <td>0.1010</td>\n      <td>0.150</td>\n    </tr>\n    <tr>\n      <th>1</th>\n      <td>M</td>\n      <td>0.350</td>\n      <td>0.265</td>\n      <td>0.090</td>\n      <td>0.2255</td>\n      <td>0.0995</td>\n      <td>0.0485</td>\n      <td>0.070</td>\n    </tr>\n    <tr>\n      <th>2</th>\n      <td>F</td>\n      <td>0.530</td>\n      <td>0.420</td>\n      <td>0.135</td>\n      <td>0.6770</td>\n      <td>0.2565</td>\n      <td>0.1415</td>\n      <td>0.210</td>\n    </tr>\n    <tr>\n      <th>3</th>\n      <td>M</td>\n      <td>0.440</td>\n      <td>0.365</td>\n      <td>0.125</td>\n      <td>0.5160</td>\n      <td>0.2155</td>\n      <td>0.1140</td>\n      <td>0.155</td>\n    </tr>\n    <tr>\n      <th>4</th>\n      <td>I</td>\n      <td>0.330</td>\n      <td>0.255</td>\n      <td>0.080</td>\n      <td>0.2050</td>\n      <td>0.0895</td>\n      <td>0.0395</td>\n      <td>0.055</td>\n    </tr>\n  </tbody>\n</table>\n</div>"
     },
     "execution_count": 34,
     "metadata": {},
     "output_type": "execute_result"
    }
   ],
   "source": [
    "from ucimlrepo import fetch_ucirepo\n",
    "\n",
    "# fetch dataset\n",
    "abalone = fetch_ucirepo(id=1)\n",
    "\n",
    "# data (as pandas dataframes)\n",
    "X = abalone.data.features\n",
    "y = abalone.data.targets\n",
    "\n",
    "X.head()\n"
   ]
  },
  {
   "cell_type": "code",
   "execution_count": 35,
   "outputs": [
    {
     "data": {
      "text/plain": "  Sex  Length  Diameter  Height  Whole_weight  Shucked_weight  Viscera_weight  \\\n0   M   0.455     0.365   0.095        0.5140          0.2245          0.1010   \n1   M   0.350     0.265   0.090        0.2255          0.0995          0.0485   \n2   F   0.530     0.420   0.135        0.6770          0.2565          0.1415   \n3   M   0.440     0.365   0.125        0.5160          0.2155          0.1140   \n4   I   0.330     0.255   0.080        0.2050          0.0895          0.0395   \n\n   Shell_weight  Sex_label  \n0         0.150          2  \n1         0.070          2  \n2         0.210          0  \n3         0.155          2  \n4         0.055          1  ",
      "text/html": "<div>\n<style scoped>\n    .dataframe tbody tr th:only-of-type {\n        vertical-align: middle;\n    }\n\n    .dataframe tbody tr th {\n        vertical-align: top;\n    }\n\n    .dataframe thead th {\n        text-align: right;\n    }\n</style>\n<table border=\"1\" class=\"dataframe\">\n  <thead>\n    <tr style=\"text-align: right;\">\n      <th></th>\n      <th>Sex</th>\n      <th>Length</th>\n      <th>Diameter</th>\n      <th>Height</th>\n      <th>Whole_weight</th>\n      <th>Shucked_weight</th>\n      <th>Viscera_weight</th>\n      <th>Shell_weight</th>\n      <th>Sex_label</th>\n    </tr>\n  </thead>\n  <tbody>\n    <tr>\n      <th>0</th>\n      <td>M</td>\n      <td>0.455</td>\n      <td>0.365</td>\n      <td>0.095</td>\n      <td>0.5140</td>\n      <td>0.2245</td>\n      <td>0.1010</td>\n      <td>0.150</td>\n      <td>2</td>\n    </tr>\n    <tr>\n      <th>1</th>\n      <td>M</td>\n      <td>0.350</td>\n      <td>0.265</td>\n      <td>0.090</td>\n      <td>0.2255</td>\n      <td>0.0995</td>\n      <td>0.0485</td>\n      <td>0.070</td>\n      <td>2</td>\n    </tr>\n    <tr>\n      <th>2</th>\n      <td>F</td>\n      <td>0.530</td>\n      <td>0.420</td>\n      <td>0.135</td>\n      <td>0.6770</td>\n      <td>0.2565</td>\n      <td>0.1415</td>\n      <td>0.210</td>\n      <td>0</td>\n    </tr>\n    <tr>\n      <th>3</th>\n      <td>M</td>\n      <td>0.440</td>\n      <td>0.365</td>\n      <td>0.125</td>\n      <td>0.5160</td>\n      <td>0.2155</td>\n      <td>0.1140</td>\n      <td>0.155</td>\n      <td>2</td>\n    </tr>\n    <tr>\n      <th>4</th>\n      <td>I</td>\n      <td>0.330</td>\n      <td>0.255</td>\n      <td>0.080</td>\n      <td>0.2050</td>\n      <td>0.0895</td>\n      <td>0.0395</td>\n      <td>0.055</td>\n      <td>1</td>\n    </tr>\n  </tbody>\n</table>\n</div>"
     },
     "execution_count": 35,
     "metadata": {},
     "output_type": "execute_result"
    }
   ],
   "source": [
    "#LabelEncoder\n",
    "from sklearn.preprocessing import LabelEncoder\n",
    "\n",
    "label_encoder = LabelEncoder()\n",
    "X['Sex_label'] = label_encoder.fit_transform(X['Sex'])\n",
    "X.head()"
   ],
   "metadata": {
    "collapsed": false,
    "ExecuteTime": {
     "end_time": "2024-01-23T17:40:06.756499641Z",
     "start_time": "2024-01-23T17:40:06.752292580Z"
    }
   }
  },
  {
   "cell_type": "code",
   "execution_count": 36,
   "outputs": [
    {
     "data": {
      "text/plain": "     Sex  Length  Diameter  Height  Whole_weight  Shucked_weight  \\\n0      M   0.455     0.365   0.095        0.5140          0.2245   \n1      M   0.350     0.265   0.090        0.2255          0.0995   \n2      F   0.530     0.420   0.135        0.6770          0.2565   \n3      M   0.440     0.365   0.125        0.5160          0.2155   \n4      I   0.330     0.255   0.080        0.2050          0.0895   \n...   ..     ...       ...     ...           ...             ...   \n4172   F   0.565     0.450   0.165        0.8870          0.3700   \n4173   M   0.590     0.440   0.135        0.9660          0.4390   \n4174   M   0.600     0.475   0.205        1.1760          0.5255   \n4175   F   0.625     0.485   0.150        1.0945          0.5310   \n4176   M   0.710     0.555   0.195        1.9485          0.9455   \n\n      Viscera_weight  Shell_weight  Sex_label  Sex_ordinal  \n0             0.1010        0.1500          2          1.0  \n1             0.0485        0.0700          2          1.0  \n2             0.1415        0.2100          0          2.0  \n3             0.1140        0.1550          2          1.0  \n4             0.0395        0.0550          1          0.0  \n...              ...           ...        ...          ...  \n4172          0.2390        0.2490          0          2.0  \n4173          0.2145        0.2605          2          1.0  \n4174          0.2875        0.3080          2          1.0  \n4175          0.2610        0.2960          0          2.0  \n4176          0.3765        0.4950          2          1.0  \n\n[4177 rows x 10 columns]",
      "text/html": "<div>\n<style scoped>\n    .dataframe tbody tr th:only-of-type {\n        vertical-align: middle;\n    }\n\n    .dataframe tbody tr th {\n        vertical-align: top;\n    }\n\n    .dataframe thead th {\n        text-align: right;\n    }\n</style>\n<table border=\"1\" class=\"dataframe\">\n  <thead>\n    <tr style=\"text-align: right;\">\n      <th></th>\n      <th>Sex</th>\n      <th>Length</th>\n      <th>Diameter</th>\n      <th>Height</th>\n      <th>Whole_weight</th>\n      <th>Shucked_weight</th>\n      <th>Viscera_weight</th>\n      <th>Shell_weight</th>\n      <th>Sex_label</th>\n      <th>Sex_ordinal</th>\n    </tr>\n  </thead>\n  <tbody>\n    <tr>\n      <th>0</th>\n      <td>M</td>\n      <td>0.455</td>\n      <td>0.365</td>\n      <td>0.095</td>\n      <td>0.5140</td>\n      <td>0.2245</td>\n      <td>0.1010</td>\n      <td>0.1500</td>\n      <td>2</td>\n      <td>1.0</td>\n    </tr>\n    <tr>\n      <th>1</th>\n      <td>M</td>\n      <td>0.350</td>\n      <td>0.265</td>\n      <td>0.090</td>\n      <td>0.2255</td>\n      <td>0.0995</td>\n      <td>0.0485</td>\n      <td>0.0700</td>\n      <td>2</td>\n      <td>1.0</td>\n    </tr>\n    <tr>\n      <th>2</th>\n      <td>F</td>\n      <td>0.530</td>\n      <td>0.420</td>\n      <td>0.135</td>\n      <td>0.6770</td>\n      <td>0.2565</td>\n      <td>0.1415</td>\n      <td>0.2100</td>\n      <td>0</td>\n      <td>2.0</td>\n    </tr>\n    <tr>\n      <th>3</th>\n      <td>M</td>\n      <td>0.440</td>\n      <td>0.365</td>\n      <td>0.125</td>\n      <td>0.5160</td>\n      <td>0.2155</td>\n      <td>0.1140</td>\n      <td>0.1550</td>\n      <td>2</td>\n      <td>1.0</td>\n    </tr>\n    <tr>\n      <th>4</th>\n      <td>I</td>\n      <td>0.330</td>\n      <td>0.255</td>\n      <td>0.080</td>\n      <td>0.2050</td>\n      <td>0.0895</td>\n      <td>0.0395</td>\n      <td>0.0550</td>\n      <td>1</td>\n      <td>0.0</td>\n    </tr>\n    <tr>\n      <th>...</th>\n      <td>...</td>\n      <td>...</td>\n      <td>...</td>\n      <td>...</td>\n      <td>...</td>\n      <td>...</td>\n      <td>...</td>\n      <td>...</td>\n      <td>...</td>\n      <td>...</td>\n    </tr>\n    <tr>\n      <th>4172</th>\n      <td>F</td>\n      <td>0.565</td>\n      <td>0.450</td>\n      <td>0.165</td>\n      <td>0.8870</td>\n      <td>0.3700</td>\n      <td>0.2390</td>\n      <td>0.2490</td>\n      <td>0</td>\n      <td>2.0</td>\n    </tr>\n    <tr>\n      <th>4173</th>\n      <td>M</td>\n      <td>0.590</td>\n      <td>0.440</td>\n      <td>0.135</td>\n      <td>0.9660</td>\n      <td>0.4390</td>\n      <td>0.2145</td>\n      <td>0.2605</td>\n      <td>2</td>\n      <td>1.0</td>\n    </tr>\n    <tr>\n      <th>4174</th>\n      <td>M</td>\n      <td>0.600</td>\n      <td>0.475</td>\n      <td>0.205</td>\n      <td>1.1760</td>\n      <td>0.5255</td>\n      <td>0.2875</td>\n      <td>0.3080</td>\n      <td>2</td>\n      <td>1.0</td>\n    </tr>\n    <tr>\n      <th>4175</th>\n      <td>F</td>\n      <td>0.625</td>\n      <td>0.485</td>\n      <td>0.150</td>\n      <td>1.0945</td>\n      <td>0.5310</td>\n      <td>0.2610</td>\n      <td>0.2960</td>\n      <td>0</td>\n      <td>2.0</td>\n    </tr>\n    <tr>\n      <th>4176</th>\n      <td>M</td>\n      <td>0.710</td>\n      <td>0.555</td>\n      <td>0.195</td>\n      <td>1.9485</td>\n      <td>0.9455</td>\n      <td>0.3765</td>\n      <td>0.4950</td>\n      <td>2</td>\n      <td>1.0</td>\n    </tr>\n  </tbody>\n</table>\n<p>4177 rows × 10 columns</p>\n</div>"
     },
     "execution_count": 36,
     "metadata": {},
     "output_type": "execute_result"
    }
   ],
   "source": [
    "#OrdinalEncoder\n",
    "from sklearn.preprocessing import OrdinalEncoder\n",
    "\n",
    "\n",
    "ordinal_encoder = OrdinalEncoder(categories=[['I', 'M', 'F']])\n",
    "X['Sex_ordinal'] = ordinal_encoder.fit_transform(X[['Sex']])\n",
    "\n",
    "# Display the dataframe with the new 'Sex_ordinal' column\n",
    "X\n"
   ],
   "metadata": {
    "collapsed": false,
    "ExecuteTime": {
     "end_time": "2024-01-23T17:40:08.672317578Z",
     "start_time": "2024-01-23T17:40:08.668751174Z"
    }
   }
  },
  {
   "cell_type": "markdown",
   "source": [],
   "metadata": {
    "collapsed": false
   }
  },
  {
   "cell_type": "code",
   "execution_count": 41,
   "outputs": [
    {
     "name": "stdout",
     "output_type": "stream",
     "text": [
      "0    0.365813\n",
      "1    0.365813\n",
      "2    0.312904\n",
      "3    0.365813\n",
      "4    0.321283\n",
      "Name: Sex, dtype: float64\n",
      "   sex_freq\n",
      "0  0.365813\n",
      "1  0.365813\n",
      "2  0.312904\n",
      "3  0.365813\n",
      "4  0.321283\n"
     ]
    },
    {
     "data": {
      "text/plain": "   Sex  Length  Diameter  Height  Whole_weight  Shucked_weight  \\\n0    M   0.455     0.365   0.095        0.5140          0.2245   \n1    M   0.350     0.265   0.090        0.2255          0.0995   \n2    F   0.530     0.420   0.135        0.6770          0.2565   \n3    M   0.440     0.365   0.125        0.5160          0.2155   \n4    I   0.330     0.255   0.080        0.2050          0.0895   \n..  ..     ...       ...     ...           ...             ...   \n95   M   0.665     0.535   0.195        1.6060          0.5755   \n96   M   0.535     0.435   0.150        0.7250          0.2690   \n97   M   0.470     0.375   0.130        0.5230          0.2140   \n98   M   0.470     0.370   0.130        0.5225          0.2010   \n99   F   0.475     0.375   0.125        0.5785          0.2775   \n\n    Viscera_weight  Shell_weight  Sex_label  Sex_ordinal  sex_F  sex_I  sex_M  \\\n0           0.1010         0.150          2          1.0    0.0    0.0    1.0   \n1           0.0485         0.070          2          1.0    0.0    0.0    1.0   \n2           0.1415         0.210          0          2.0    1.0    0.0    0.0   \n3           0.1140         0.155          2          1.0    0.0    0.0    1.0   \n4           0.0395         0.055          1          0.0    0.0    1.0    0.0   \n..             ...           ...        ...          ...    ...    ...    ...   \n95          0.3880         0.480          2          1.0    0.0    0.0    1.0   \n96          0.1385         0.250          2          1.0    0.0    0.0    1.0   \n97          0.1320         0.145          2          1.0    0.0    0.0    1.0   \n98          0.1330         0.165          2          1.0    0.0    0.0    1.0   \n99          0.0850         0.155          0          2.0    1.0    0.0    0.0   \n\n    sex_freq  \n0   0.365813  \n1   0.365813  \n2   0.312904  \n3   0.365813  \n4   0.321283  \n..       ...  \n95  0.365813  \n96  0.365813  \n97  0.365813  \n98  0.365813  \n99  0.312904  \n\n[100 rows x 14 columns]",
      "text/html": "<div>\n<style scoped>\n    .dataframe tbody tr th:only-of-type {\n        vertical-align: middle;\n    }\n\n    .dataframe tbody tr th {\n        vertical-align: top;\n    }\n\n    .dataframe thead th {\n        text-align: right;\n    }\n</style>\n<table border=\"1\" class=\"dataframe\">\n  <thead>\n    <tr style=\"text-align: right;\">\n      <th></th>\n      <th>Sex</th>\n      <th>Length</th>\n      <th>Diameter</th>\n      <th>Height</th>\n      <th>Whole_weight</th>\n      <th>Shucked_weight</th>\n      <th>Viscera_weight</th>\n      <th>Shell_weight</th>\n      <th>Sex_label</th>\n      <th>Sex_ordinal</th>\n      <th>sex_F</th>\n      <th>sex_I</th>\n      <th>sex_M</th>\n      <th>sex_freq</th>\n    </tr>\n  </thead>\n  <tbody>\n    <tr>\n      <th>0</th>\n      <td>M</td>\n      <td>0.455</td>\n      <td>0.365</td>\n      <td>0.095</td>\n      <td>0.5140</td>\n      <td>0.2245</td>\n      <td>0.1010</td>\n      <td>0.150</td>\n      <td>2</td>\n      <td>1.0</td>\n      <td>0.0</td>\n      <td>0.0</td>\n      <td>1.0</td>\n      <td>0.365813</td>\n    </tr>\n    <tr>\n      <th>1</th>\n      <td>M</td>\n      <td>0.350</td>\n      <td>0.265</td>\n      <td>0.090</td>\n      <td>0.2255</td>\n      <td>0.0995</td>\n      <td>0.0485</td>\n      <td>0.070</td>\n      <td>2</td>\n      <td>1.0</td>\n      <td>0.0</td>\n      <td>0.0</td>\n      <td>1.0</td>\n      <td>0.365813</td>\n    </tr>\n    <tr>\n      <th>2</th>\n      <td>F</td>\n      <td>0.530</td>\n      <td>0.420</td>\n      <td>0.135</td>\n      <td>0.6770</td>\n      <td>0.2565</td>\n      <td>0.1415</td>\n      <td>0.210</td>\n      <td>0</td>\n      <td>2.0</td>\n      <td>1.0</td>\n      <td>0.0</td>\n      <td>0.0</td>\n      <td>0.312904</td>\n    </tr>\n    <tr>\n      <th>3</th>\n      <td>M</td>\n      <td>0.440</td>\n      <td>0.365</td>\n      <td>0.125</td>\n      <td>0.5160</td>\n      <td>0.2155</td>\n      <td>0.1140</td>\n      <td>0.155</td>\n      <td>2</td>\n      <td>1.0</td>\n      <td>0.0</td>\n      <td>0.0</td>\n      <td>1.0</td>\n      <td>0.365813</td>\n    </tr>\n    <tr>\n      <th>4</th>\n      <td>I</td>\n      <td>0.330</td>\n      <td>0.255</td>\n      <td>0.080</td>\n      <td>0.2050</td>\n      <td>0.0895</td>\n      <td>0.0395</td>\n      <td>0.055</td>\n      <td>1</td>\n      <td>0.0</td>\n      <td>0.0</td>\n      <td>1.0</td>\n      <td>0.0</td>\n      <td>0.321283</td>\n    </tr>\n    <tr>\n      <th>...</th>\n      <td>...</td>\n      <td>...</td>\n      <td>...</td>\n      <td>...</td>\n      <td>...</td>\n      <td>...</td>\n      <td>...</td>\n      <td>...</td>\n      <td>...</td>\n      <td>...</td>\n      <td>...</td>\n      <td>...</td>\n      <td>...</td>\n      <td>...</td>\n    </tr>\n    <tr>\n      <th>95</th>\n      <td>M</td>\n      <td>0.665</td>\n      <td>0.535</td>\n      <td>0.195</td>\n      <td>1.6060</td>\n      <td>0.5755</td>\n      <td>0.3880</td>\n      <td>0.480</td>\n      <td>2</td>\n      <td>1.0</td>\n      <td>0.0</td>\n      <td>0.0</td>\n      <td>1.0</td>\n      <td>0.365813</td>\n    </tr>\n    <tr>\n      <th>96</th>\n      <td>M</td>\n      <td>0.535</td>\n      <td>0.435</td>\n      <td>0.150</td>\n      <td>0.7250</td>\n      <td>0.2690</td>\n      <td>0.1385</td>\n      <td>0.250</td>\n      <td>2</td>\n      <td>1.0</td>\n      <td>0.0</td>\n      <td>0.0</td>\n      <td>1.0</td>\n      <td>0.365813</td>\n    </tr>\n    <tr>\n      <th>97</th>\n      <td>M</td>\n      <td>0.470</td>\n      <td>0.375</td>\n      <td>0.130</td>\n      <td>0.5230</td>\n      <td>0.2140</td>\n      <td>0.1320</td>\n      <td>0.145</td>\n      <td>2</td>\n      <td>1.0</td>\n      <td>0.0</td>\n      <td>0.0</td>\n      <td>1.0</td>\n      <td>0.365813</td>\n    </tr>\n    <tr>\n      <th>98</th>\n      <td>M</td>\n      <td>0.470</td>\n      <td>0.370</td>\n      <td>0.130</td>\n      <td>0.5225</td>\n      <td>0.2010</td>\n      <td>0.1330</td>\n      <td>0.165</td>\n      <td>2</td>\n      <td>1.0</td>\n      <td>0.0</td>\n      <td>0.0</td>\n      <td>1.0</td>\n      <td>0.365813</td>\n    </tr>\n    <tr>\n      <th>99</th>\n      <td>F</td>\n      <td>0.475</td>\n      <td>0.375</td>\n      <td>0.125</td>\n      <td>0.5785</td>\n      <td>0.2775</td>\n      <td>0.0850</td>\n      <td>0.155</td>\n      <td>0</td>\n      <td>2.0</td>\n      <td>1.0</td>\n      <td>0.0</td>\n      <td>0.0</td>\n      <td>0.312904</td>\n    </tr>\n  </tbody>\n</table>\n<p>100 rows × 14 columns</p>\n</div>"
     },
     "execution_count": 41,
     "metadata": {},
     "output_type": "execute_result"
    }
   ],
   "source": [
    "#OneHotEncoder and Frequency Encoder\n",
    "from sklearn.preprocessing import OneHotEncoder\n",
    "import pandas as pd\n",
    "sex_column = X.iloc[:, 0]\n",
    "\n",
    "onehot_encoder = OneHotEncoder()\n",
    "sex_onehot = onehot_encoder.fit_transform(sex_column.values.reshape(-1, 1)).toarray()\n",
    "\n",
    "label_encoder = LabelEncoder()\n",
    "sex_labels = label_encoder.fit_transform(sex_column)\n",
    "sex_freq = X['Sex'].map(X['Sex'].value_counts(normalize=True))\n",
    "sex_freq_df = pd.DataFrame({'sex_freq': sex_freq})\n",
    "\n",
    "\n",
    "sex_onehot_df = pd.DataFrame(sex_onehot, columns=onehot_encoder.get_feature_names_out(['sex']))\n",
    "\n",
    "X_encoded = pd.concat([X, sex_onehot_df, sex_freq_df], axis=1)\n",
    "\n",
    "X_encoded.head(100)\n"
   ],
   "metadata": {
    "collapsed": false,
    "ExecuteTime": {
     "end_time": "2024-01-23T17:44:15.610423669Z",
     "start_time": "2024-01-23T17:44:15.563812070Z"
    }
   }
  },
  {
   "cell_type": "code",
   "execution_count": null,
   "outputs": [],
   "source": [],
   "metadata": {
    "collapsed": false
   }
  }
 ],
 "metadata": {
  "kernelspec": {
   "display_name": "Python 3",
   "language": "python",
   "name": "python3"
  },
  "language_info": {
   "codemirror_mode": {
    "name": "ipython",
    "version": 2
   },
   "file_extension": ".py",
   "mimetype": "text/x-python",
   "name": "python",
   "nbconvert_exporter": "python",
   "pygments_lexer": "ipython2",
   "version": "2.7.6"
  }
 },
 "nbformat": 4,
 "nbformat_minor": 0
}
