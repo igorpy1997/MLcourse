{
 "cells": [
  {
   "cell_type": "code",
   "execution_count": 13,
   "metadata": {
    "collapsed": true,
    "ExecuteTime": {
     "end_time": "2024-01-28T20:30:20.296613479Z",
     "start_time": "2024-01-28T20:30:18.409930662Z"
    }
   },
   "outputs": [
    {
     "data": {
      "text/plain": "          RI     Na    Mg    Al     Si     K    Ca    Ba   Fe\n0    1.52101  13.64  4.49  1.10  71.78  0.06  8.75  0.00  0.0\n1    1.51761  13.89  3.60  1.36  72.73  0.48  7.83  0.00  0.0\n2    1.51618  13.53  3.55  1.54  72.99  0.39  7.78  0.00  0.0\n3    1.51766  13.21  3.69  1.29  72.61  0.57  8.22  0.00  0.0\n4    1.51742  13.27  3.62  1.24  73.08  0.55  8.07  0.00  0.0\n..       ...    ...   ...   ...    ...   ...   ...   ...  ...\n209  1.51623  14.14  0.00  2.88  72.61  0.08  9.18  1.06  0.0\n210  1.51685  14.92  0.00  1.99  73.06  0.00  8.40  1.59  0.0\n211  1.52065  14.36  0.00  2.02  73.42  0.00  8.44  1.64  0.0\n212  1.51651  14.38  0.00  1.94  73.61  0.00  8.48  1.57  0.0\n213  1.51711  14.23  0.00  2.08  73.36  0.00  8.62  1.67  0.0\n\n[214 rows x 9 columns]",
      "text/html": "<div>\n<style scoped>\n    .dataframe tbody tr th:only-of-type {\n        vertical-align: middle;\n    }\n\n    .dataframe tbody tr th {\n        vertical-align: top;\n    }\n\n    .dataframe thead th {\n        text-align: right;\n    }\n</style>\n<table border=\"1\" class=\"dataframe\">\n  <thead>\n    <tr style=\"text-align: right;\">\n      <th></th>\n      <th>RI</th>\n      <th>Na</th>\n      <th>Mg</th>\n      <th>Al</th>\n      <th>Si</th>\n      <th>K</th>\n      <th>Ca</th>\n      <th>Ba</th>\n      <th>Fe</th>\n    </tr>\n  </thead>\n  <tbody>\n    <tr>\n      <th>0</th>\n      <td>1.52101</td>\n      <td>13.64</td>\n      <td>4.49</td>\n      <td>1.10</td>\n      <td>71.78</td>\n      <td>0.06</td>\n      <td>8.75</td>\n      <td>0.00</td>\n      <td>0.0</td>\n    </tr>\n    <tr>\n      <th>1</th>\n      <td>1.51761</td>\n      <td>13.89</td>\n      <td>3.60</td>\n      <td>1.36</td>\n      <td>72.73</td>\n      <td>0.48</td>\n      <td>7.83</td>\n      <td>0.00</td>\n      <td>0.0</td>\n    </tr>\n    <tr>\n      <th>2</th>\n      <td>1.51618</td>\n      <td>13.53</td>\n      <td>3.55</td>\n      <td>1.54</td>\n      <td>72.99</td>\n      <td>0.39</td>\n      <td>7.78</td>\n      <td>0.00</td>\n      <td>0.0</td>\n    </tr>\n    <tr>\n      <th>3</th>\n      <td>1.51766</td>\n      <td>13.21</td>\n      <td>3.69</td>\n      <td>1.29</td>\n      <td>72.61</td>\n      <td>0.57</td>\n      <td>8.22</td>\n      <td>0.00</td>\n      <td>0.0</td>\n    </tr>\n    <tr>\n      <th>4</th>\n      <td>1.51742</td>\n      <td>13.27</td>\n      <td>3.62</td>\n      <td>1.24</td>\n      <td>73.08</td>\n      <td>0.55</td>\n      <td>8.07</td>\n      <td>0.00</td>\n      <td>0.0</td>\n    </tr>\n    <tr>\n      <th>...</th>\n      <td>...</td>\n      <td>...</td>\n      <td>...</td>\n      <td>...</td>\n      <td>...</td>\n      <td>...</td>\n      <td>...</td>\n      <td>...</td>\n      <td>...</td>\n    </tr>\n    <tr>\n      <th>209</th>\n      <td>1.51623</td>\n      <td>14.14</td>\n      <td>0.00</td>\n      <td>2.88</td>\n      <td>72.61</td>\n      <td>0.08</td>\n      <td>9.18</td>\n      <td>1.06</td>\n      <td>0.0</td>\n    </tr>\n    <tr>\n      <th>210</th>\n      <td>1.51685</td>\n      <td>14.92</td>\n      <td>0.00</td>\n      <td>1.99</td>\n      <td>73.06</td>\n      <td>0.00</td>\n      <td>8.40</td>\n      <td>1.59</td>\n      <td>0.0</td>\n    </tr>\n    <tr>\n      <th>211</th>\n      <td>1.52065</td>\n      <td>14.36</td>\n      <td>0.00</td>\n      <td>2.02</td>\n      <td>73.42</td>\n      <td>0.00</td>\n      <td>8.44</td>\n      <td>1.64</td>\n      <td>0.0</td>\n    </tr>\n    <tr>\n      <th>212</th>\n      <td>1.51651</td>\n      <td>14.38</td>\n      <td>0.00</td>\n      <td>1.94</td>\n      <td>73.61</td>\n      <td>0.00</td>\n      <td>8.48</td>\n      <td>1.57</td>\n      <td>0.0</td>\n    </tr>\n    <tr>\n      <th>213</th>\n      <td>1.51711</td>\n      <td>14.23</td>\n      <td>0.00</td>\n      <td>2.08</td>\n      <td>73.36</td>\n      <td>0.00</td>\n      <td>8.62</td>\n      <td>1.67</td>\n      <td>0.0</td>\n    </tr>\n  </tbody>\n</table>\n<p>214 rows × 9 columns</p>\n</div>"
     },
     "execution_count": 13,
     "metadata": {},
     "output_type": "execute_result"
    }
   ],
   "source": [
    "from ucimlrepo import fetch_ucirepo\n",
    "\n",
    "# fetch dataset\n",
    "glass_identification = fetch_ucirepo(id=42)\n",
    "\n",
    "# data (as pandas dataframes)\n",
    "X = glass_identification.data.features\n",
    "y = glass_identification.data.targets\n",
    "X\n"
   ]
  },
  {
   "cell_type": "code",
   "execution_count": 14,
   "outputs": [
    {
     "name": "stdout",
     "output_type": "stream",
     "text": [
      "Распределение классов: {1: 70, 2: 76, 3: 17, 5: 13, 6: 9, 7: 29}\n"
     ]
    }
   ],
   "source": [
    "import numpy as np\n",
    "\n",
    "y_array = np.array(y)\n",
    "\n",
    "if np.isnan(y_array).any():\n",
    "    print(\"В переменной y есть NaN значения.\")\n",
    "else:\n",
    "    unique, counts = np.unique(y_array, return_counts=True)\n",
    "    class_distribution = dict(zip(unique, counts))\n",
    "    print(\"Распределение классов:\", class_distribution)\n"
   ],
   "metadata": {
    "collapsed": false,
    "ExecuteTime": {
     "end_time": "2024-01-28T20:30:23.298537610Z",
     "start_time": "2024-01-28T20:30:23.253947420Z"
    }
   }
  },
  {
   "cell_type": "code",
   "execution_count": 22,
   "outputs": [
    {
     "name": "stdout",
     "output_type": "stream",
     "text": [
      "Классификационный отчет для исходных данных:\n",
      "              precision    recall  f1-score   support\n",
      "\n",
      "           1       0.64      0.74      0.68        19\n",
      "           2       0.62      0.70      0.65        23\n",
      "           3       0.00      0.00      0.00         4\n",
      "           5       1.00      0.33      0.50         6\n",
      "           6       0.67      0.67      0.67         3\n",
      "           7       0.91      1.00      0.95        10\n",
      "\n",
      "    accuracy                           0.68        65\n",
      "   macro avg       0.64      0.57      0.58        65\n",
      "weighted avg       0.67      0.68      0.65        65\n",
      "\n"
     ]
    }
   ],
   "source": [
    "from sklearn.model_selection import train_test_split\n",
    "from sklearn.linear_model import LogisticRegression\n",
    "from sklearn.metrics import classification_report\n",
    "from sklearn.preprocessing import StandardScaler\n",
    "from imblearn.over_sampling import SMOTE\n",
    "\n",
    "# Масштабирование данных\n",
    "scaler = StandardScaler()\n",
    "X_scaled = scaler.fit_transform(X)\n",
    "\n",
    "# Разделение масштабированных данных на обучающую и тестовую выборки\n",
    "X_train, X_test, y_train, y_test = train_test_split(X_scaled, y, test_size=0.3, random_state=42)\n",
    "\n",
    "# Обучение модели на исходных данных с увеличенным количеством итераций\n",
    "model = LogisticRegression(max_iter=1000)\n",
    "model.fit(X_train, y_train.values.ravel()) # Используем values.ravel() здесь\n",
    "\n",
    "# Предсказание и оценка модели\n",
    "y_pred = model.predict(X_test)\n",
    "print(\"Классификационный отчет для исходных данных:\")\n",
    "print(classification_report(y_test, y_pred, zero_division=1))"
   ],
   "metadata": {
    "collapsed": false,
    "ExecuteTime": {
     "end_time": "2024-01-28T21:05:22.209521791Z",
     "start_time": "2024-01-28T21:05:22.168274671Z"
    }
   }
  },
  {
   "cell_type": "code",
   "execution_count": 23,
   "outputs": [
    {
     "name": "stdout",
     "output_type": "stream",
     "text": [
      "Классификационный отчет после балансировки классов:\n",
      "              precision    recall  f1-score   support\n",
      "\n",
      "           1       0.62      0.68      0.65        19\n",
      "           2       0.69      0.39      0.50        23\n",
      "           3       0.20      0.50      0.29         4\n",
      "           5       0.80      0.67      0.73         6\n",
      "           6       0.75      1.00      0.86         3\n",
      "           7       0.83      1.00      0.91        10\n",
      "\n",
      "    accuracy                           0.63        65\n",
      "   macro avg       0.65      0.71      0.65        65\n",
      "weighted avg       0.67      0.63      0.63        65\n",
      "\n"
     ]
    }
   ],
   "source": [
    "\"\"\"\n",
    "Мы видим, что общая точность упала немного после балансировки классов, но средний F1-балл увеличился, что указывает на улучшение сбалансированности производительности модели по разным классам. Важно отметить, что взвешенный средний F1-балл остался примерно на том же уровне.\n",
    "Если важно равномерно распознавать все классы, модель после балансировки может быть предпочтительнее. Если же важнее общая точность и ваши основные классы уже хорошо представлены в данных, возможно, стоит остановиться на модели до балансировки и искать способы улучшить распознавание менее представленных классов без ухудшения результатов по основным классам.\n",
    "\"\"\"\n",
    "\n",
    "# Применение SMOTE к обучающим данным\n",
    "smote = SMOTE(random_state=42)\n",
    "X_train_resampled, y_train_resampled = smote.fit_resample(X_train, y_train.values.ravel()) # Используем values.ravel() здесь\n",
    "\n",
    "# Обучение модели на сбалансированных данных\n",
    "model.fit(X_train_resampled, y_train_resampled)\n",
    "\n",
    "# Предсказание и оценка модели\n",
    "y_pred_resampled = model.predict(X_test)\n",
    "print(\"Классификационный отчет после балансировки классов:\")\n",
    "print(classification_report(y_test, y_pred_resampled, zero_division=1))"
   ],
   "metadata": {
    "collapsed": false,
    "ExecuteTime": {
     "end_time": "2024-01-28T21:17:59.313589089Z",
     "start_time": "2024-01-28T21:17:59.280696189Z"
    }
   }
  },
  {
   "cell_type": "code",
   "execution_count": null,
   "outputs": [],
   "source": [],
   "metadata": {
    "collapsed": false
   }
  }
 ],
 "metadata": {
  "kernelspec": {
   "display_name": "Python 3",
   "language": "python",
   "name": "python3"
  },
  "language_info": {
   "codemirror_mode": {
    "name": "ipython",
    "version": 2
   },
   "file_extension": ".py",
   "mimetype": "text/x-python",
   "name": "python",
   "nbconvert_exporter": "python",
   "pygments_lexer": "ipython2",
   "version": "2.7.6"
  }
 },
 "nbformat": 4,
 "nbformat_minor": 0
}
