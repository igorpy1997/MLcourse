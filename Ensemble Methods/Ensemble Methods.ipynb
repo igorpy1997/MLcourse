{
 "cells": [
  {
   "cell_type": "code",
   "execution_count": 1,
   "metadata": {
    "collapsed": true,
    "ExecuteTime": {
     "end_time": "2024-01-30T22:34:51.661950794Z",
     "start_time": "2024-01-30T22:34:51.437548913Z"
    }
   },
   "outputs": [
    {
     "name": "stderr",
     "output_type": "stream",
     "text": [
      "/tmp/ipykernel_6396/4144638285.py:2: DeprecationWarning: \n",
      "Pyarrow will become a required dependency of pandas in the next major release of pandas (pandas 3.0),\n",
      "(to allow more performant data types, such as the Arrow string type, and better interoperability with other libraries)\n",
      "but was not found to be installed on your system.\n",
      "If this would cause problems for you,\n",
      "please provide us feedback at https://github.com/pandas-dev/pandas/issues/54466\n",
      "        \n",
      "  import pandas as pd\n"
     ]
    },
    {
     "data": {
      "text/plain": "   process.b1.capacity  process.b2.capacity  process.b3.capacity  \\\n0                    0                    0                    2   \n1                    0                    0                    2   \n2                    0                    0                    2   \n3                    0                    0                    2   \n4                    0                    0                    2   \n\n   process.b4.capacity  property.price  property.product  property.winner  \\\n0                    1              59                 1                0   \n1                    1              59                 2                0   \n2                    1              59                 4                0   \n3                    1              59                 6                0   \n4                    1              60                 1                0   \n\n   verification.result  verification.time  \n0                False         163.316667  \n1                False         200.860000  \n2                False         154.888889  \n3                False         108.640000  \n4                 True          85.466667  ",
      "text/html": "<div>\n<style scoped>\n    .dataframe tbody tr th:only-of-type {\n        vertical-align: middle;\n    }\n\n    .dataframe tbody tr th {\n        vertical-align: top;\n    }\n\n    .dataframe thead th {\n        text-align: right;\n    }\n</style>\n<table border=\"1\" class=\"dataframe\">\n  <thead>\n    <tr style=\"text-align: right;\">\n      <th></th>\n      <th>process.b1.capacity</th>\n      <th>process.b2.capacity</th>\n      <th>process.b3.capacity</th>\n      <th>process.b4.capacity</th>\n      <th>property.price</th>\n      <th>property.product</th>\n      <th>property.winner</th>\n      <th>verification.result</th>\n      <th>verification.time</th>\n    </tr>\n  </thead>\n  <tbody>\n    <tr>\n      <th>0</th>\n      <td>0</td>\n      <td>0</td>\n      <td>2</td>\n      <td>1</td>\n      <td>59</td>\n      <td>1</td>\n      <td>0</td>\n      <td>False</td>\n      <td>163.316667</td>\n    </tr>\n    <tr>\n      <th>1</th>\n      <td>0</td>\n      <td>0</td>\n      <td>2</td>\n      <td>1</td>\n      <td>59</td>\n      <td>2</td>\n      <td>0</td>\n      <td>False</td>\n      <td>200.860000</td>\n    </tr>\n    <tr>\n      <th>2</th>\n      <td>0</td>\n      <td>0</td>\n      <td>2</td>\n      <td>1</td>\n      <td>59</td>\n      <td>4</td>\n      <td>0</td>\n      <td>False</td>\n      <td>154.888889</td>\n    </tr>\n    <tr>\n      <th>3</th>\n      <td>0</td>\n      <td>0</td>\n      <td>2</td>\n      <td>1</td>\n      <td>59</td>\n      <td>6</td>\n      <td>0</td>\n      <td>False</td>\n      <td>108.640000</td>\n    </tr>\n    <tr>\n      <th>4</th>\n      <td>0</td>\n      <td>0</td>\n      <td>2</td>\n      <td>1</td>\n      <td>60</td>\n      <td>1</td>\n      <td>0</td>\n      <td>True</td>\n      <td>85.466667</td>\n    </tr>\n  </tbody>\n</table>\n</div>"
     },
     "execution_count": 1,
     "metadata": {},
     "output_type": "execute_result"
    }
   ],
   "source": [
    "import pandas as pd\n",
    "\n",
    "file_path = 'data.csv'\n",
    "\n",
    "data = pd.read_csv(file_path)\n",
    "\n",
    "\n",
    "data.head()\n"
   ]
  },
  {
   "cell_type": "code",
   "execution_count": 2,
   "outputs": [
    {
     "data": {
      "text/plain": "(process.b1.capacity    0\n process.b2.capacity    0\n process.b3.capacity    0\n process.b4.capacity    0\n property.price         0\n property.product       0\n property.winner        0\n verification.result    0\n verification.time      0\n dtype: int64,\n process.b1.capacity      int64\n process.b2.capacity      int64\n process.b3.capacity      int64\n process.b4.capacity      int64\n property.price           int64\n property.product         int64\n property.winner          int64\n verification.result       bool\n verification.time      float64\n dtype: object,\n    process.b1.capacity  process.b2.capacity  process.b3.capacity  \\\n 0                    0                    0                    2   \n 1                    0                    0                    2   \n 2                    0                    0                    2   \n 3                    0                    0                    2   \n 4                    0                    0                    2   \n \n    process.b4.capacity  property.price  property.product  property.winner  \\\n 0                    1              59                 1                0   \n 1                    1              59                 2                0   \n 2                    1              59                 4                0   \n 3                    1              59                 6                0   \n 4                    1              60                 1                0   \n \n    verification.result  verification.time  \n 0                False         163.316667  \n 1                False         200.860000  \n 2                False         154.888889  \n 3                False         108.640000  \n 4                 True          85.466667  )"
     },
     "execution_count": 2,
     "metadata": {},
     "output_type": "execute_result"
    }
   ],
   "source": [
    "missing_values = data.isnull().sum()\n",
    "data_types = data.dtypes\n",
    "missing_values, data_types, data.head()"
   ],
   "metadata": {
    "collapsed": false,
    "ExecuteTime": {
     "end_time": "2024-01-30T22:38:45.441401153Z",
     "start_time": "2024-01-30T22:38:45.399399333Z"
    }
   }
  },
  {
   "cell_type": "code",
   "execution_count": 3,
   "outputs": [
    {
     "data": {
      "text/plain": "   process.b1.capacity  process.b2.capacity  process.b3.capacity  \\\n0                    0                    0                    2   \n1                    0                    0                    2   \n2                    0                    0                    2   \n3                    0                    0                    2   \n4                    0                    0                    2   \n\n   process.b4.capacity  property.price  property.product  property.winner  \\\n0                    1              59                 1                0   \n1                    1              59                 2                0   \n2                    1              59                 4                0   \n3                    1              59                 6                0   \n4                    1              60                 1                0   \n\n   verification.result  verification.time  total_capacity  \\\n0                False         163.316667               3   \n1                False         200.860000               3   \n2                False         154.888889               3   \n3                False         108.640000               3   \n4                 True          85.466667               3   \n\n   price_to_capacity_ratio  \n0                19.666011  \n1                19.666011  \n2                19.666011  \n3                19.666011  \n4                19.999333  ",
      "text/html": "<div>\n<style scoped>\n    .dataframe tbody tr th:only-of-type {\n        vertical-align: middle;\n    }\n\n    .dataframe tbody tr th {\n        vertical-align: top;\n    }\n\n    .dataframe thead th {\n        text-align: right;\n    }\n</style>\n<table border=\"1\" class=\"dataframe\">\n  <thead>\n    <tr style=\"text-align: right;\">\n      <th></th>\n      <th>process.b1.capacity</th>\n      <th>process.b2.capacity</th>\n      <th>process.b3.capacity</th>\n      <th>process.b4.capacity</th>\n      <th>property.price</th>\n      <th>property.product</th>\n      <th>property.winner</th>\n      <th>verification.result</th>\n      <th>verification.time</th>\n      <th>total_capacity</th>\n      <th>price_to_capacity_ratio</th>\n    </tr>\n  </thead>\n  <tbody>\n    <tr>\n      <th>0</th>\n      <td>0</td>\n      <td>0</td>\n      <td>2</td>\n      <td>1</td>\n      <td>59</td>\n      <td>1</td>\n      <td>0</td>\n      <td>False</td>\n      <td>163.316667</td>\n      <td>3</td>\n      <td>19.666011</td>\n    </tr>\n    <tr>\n      <th>1</th>\n      <td>0</td>\n      <td>0</td>\n      <td>2</td>\n      <td>1</td>\n      <td>59</td>\n      <td>2</td>\n      <td>0</td>\n      <td>False</td>\n      <td>200.860000</td>\n      <td>3</td>\n      <td>19.666011</td>\n    </tr>\n    <tr>\n      <th>2</th>\n      <td>0</td>\n      <td>0</td>\n      <td>2</td>\n      <td>1</td>\n      <td>59</td>\n      <td>4</td>\n      <td>0</td>\n      <td>False</td>\n      <td>154.888889</td>\n      <td>3</td>\n      <td>19.666011</td>\n    </tr>\n    <tr>\n      <th>3</th>\n      <td>0</td>\n      <td>0</td>\n      <td>2</td>\n      <td>1</td>\n      <td>59</td>\n      <td>6</td>\n      <td>0</td>\n      <td>False</td>\n      <td>108.640000</td>\n      <td>3</td>\n      <td>19.666011</td>\n    </tr>\n    <tr>\n      <th>4</th>\n      <td>0</td>\n      <td>0</td>\n      <td>2</td>\n      <td>1</td>\n      <td>60</td>\n      <td>1</td>\n      <td>0</td>\n      <td>True</td>\n      <td>85.466667</td>\n      <td>3</td>\n      <td>19.999333</td>\n    </tr>\n  </tbody>\n</table>\n</div>"
     },
     "execution_count": 3,
     "metadata": {},
     "output_type": "execute_result"
    }
   ],
   "source": [
    "# Фіча інжиніринг\n",
    "\n",
    "# Створення нової фічі - сумарна ємність усіх процесів\n",
    "data['total_capacity'] = data[['process.b1.capacity', 'process.b2.capacity', 'process.b3.capacity', 'process.b4.capacity']].sum(axis=1)\n",
    "\n",
    "# Створення ще однієї фічі - відношення ціни до сумарної ємності\n",
    "# Додаємо невелике число до знаменника, щоб уникнути ділення на нуль\n",
    "data['price_to_capacity_ratio'] = data['property.price'] / (data['total_capacity'] + 0.0001)\n",
    "\n",
    "# Переглянемо датасет з новими фічами\n",
    "data.head()\n"
   ],
   "metadata": {
    "collapsed": false,
    "ExecuteTime": {
     "end_time": "2024-01-30T22:39:23.973502453Z",
     "start_time": "2024-01-30T22:39:23.935023334Z"
    }
   }
  },
  {
   "cell_type": "code",
   "execution_count": 4,
   "outputs": [
    {
     "data": {
      "text/plain": "((1225, 10), (409, 10), (409, 10))"
     },
     "execution_count": 4,
     "metadata": {},
     "output_type": "execute_result"
    }
   ],
   "source": [
    "from sklearn.model_selection import train_test_split\n",
    "from sklearn.preprocessing import StandardScaler\n",
    "\n",
    "# Вибираємо ознаки для масштабування\n",
    "features_to_scale = data.columns.difference(['verification.result'])\n",
    "\n",
    "# Ініціалізація масштабувальника\n",
    "scaler = StandardScaler()\n",
    "\n",
    "# Масштабування ознак\n",
    "data[features_to_scale] = scaler.fit_transform(data[features_to_scale])\n",
    "\n",
    "# Розділення даних на тренувальний, валідаційний та тестовий набори\n",
    "X = data.drop('verification.result', axis=1)\n",
    "y = data['verification.result']\n",
    "\n",
    "X_train, X_temp, y_train, y_temp = train_test_split(X, y, test_size=0.4, random_state=42)\n",
    "X_valid, X_test, y_valid, y_test = train_test_split(X_temp, y_temp, test_size=0.5, random_state=42)\n",
    "\n",
    "# Перевірка розмірів наборів даних\n",
    "X_train.shape, X_valid.shape, X_test.shape\n"
   ],
   "metadata": {
    "collapsed": false,
    "ExecuteTime": {
     "end_time": "2024-01-30T22:43:35.741068596Z",
     "start_time": "2024-01-30T22:43:35.394587703Z"
    }
   }
  },
  {
   "cell_type": "code",
   "execution_count": 5,
   "outputs": [
    {
     "data": {
      "text/plain": "0.902200488997555"
     },
     "execution_count": 5,
     "metadata": {},
     "output_type": "execute_result"
    }
   ],
   "source": [
    "from sklearn.linear_model import LogisticRegression\n",
    "from sklearn.metrics import accuracy_score\n",
    "\n",
    "# Тренування базової моделі (логістична регресія)\n",
    "log_reg = LogisticRegression()\n",
    "log_reg.fit(X_train, y_train)\n",
    "\n",
    "# Оцінка точності моделі на валідаційному наборі\n",
    "y_pred_valid = log_reg.predict(X_valid)\n",
    "base_model_accuracy = accuracy_score(y_valid, y_pred_valid)\n",
    "base_model_accuracy\n"
   ],
   "metadata": {
    "collapsed": false,
    "ExecuteTime": {
     "end_time": "2024-01-30T22:44:43.423339079Z",
     "start_time": "2024-01-30T22:44:43.378584334Z"
    }
   }
  },
  {
   "cell_type": "code",
   "execution_count": 6,
   "outputs": [
    {
     "data": {
      "text/plain": "0.9926650366748166"
     },
     "execution_count": 6,
     "metadata": {},
     "output_type": "execute_result"
    }
   ],
   "source": [
    "from sklearn.ensemble import StackingClassifier\n",
    "from sklearn.neighbors import KNeighborsClassifier\n",
    "from sklearn.tree import DecisionTreeClassifier\n",
    "from sklearn.svm import SVC\n",
    "\n",
    "# Визначення базових моделей для стекінгу\n",
    "base_models = [\n",
    "    ('knn', KNeighborsClassifier()),\n",
    "    ('dt', DecisionTreeClassifier()),\n",
    "    ('svc', SVC(probability=True))\n",
    "]\n",
    "\n",
    "# Ініціалізація стекінгу з логістичною регресією як мета-моделлю\n",
    "stacking_classifier = StackingClassifier(estimators=base_models, final_estimator=LogisticRegression())\n",
    "\n",
    "# Тренування моделі стекінгу\n",
    "stacking_classifier.fit(X_train, y_train)\n",
    "\n",
    "# Оцінка точності моделі стекінгу на валідаційному наборі\n",
    "y_pred_valid_stacking = stacking_classifier.predict(X_valid)\n",
    "stacking_model_accuracy = accuracy_score(y_valid, y_pred_valid_stacking)\n",
    "stacking_model_accuracy\n"
   ],
   "metadata": {
    "collapsed": false,
    "ExecuteTime": {
     "end_time": "2024-01-30T22:45:02.779025185Z",
     "start_time": "2024-01-30T22:45:02.281577836Z"
    }
   }
  },
  {
   "cell_type": "code",
   "execution_count": 7,
   "outputs": [
    {
     "data": {
      "text/plain": "0.9951100244498777"
     },
     "execution_count": 7,
     "metadata": {},
     "output_type": "execute_result"
    }
   ],
   "source": [
    "from sklearn.ensemble import GradientBoostingClassifier\n",
    "\n",
    "# Тренування моделі бустінгу (Gradient Boosting Classifier)\n",
    "gb_classifier = GradientBoostingClassifier()\n",
    "gb_classifier.fit(X_train, y_train)\n",
    "\n",
    "# Оцінка точності моделі бустінгу на валідаційному наборі\n",
    "y_pred_valid_gb = gb_classifier.predict(X_valid)\n",
    "boosting_model_accuracy = accuracy_score(y_valid, y_pred_valid_gb)\n",
    "boosting_model_accuracy\n"
   ],
   "metadata": {
    "collapsed": false,
    "ExecuteTime": {
     "end_time": "2024-01-30T22:45:22.949416940Z",
     "start_time": "2024-01-30T22:45:22.772392726Z"
    }
   }
  },
  {
   "cell_type": "code",
   "execution_count": 19,
   "outputs": [
    {
     "data": {
      "text/plain": "0.9951100244498777"
     },
     "execution_count": 19,
     "metadata": {},
     "output_type": "execute_result"
    }
   ],
   "source": [
    "\"\"\"\n",
    "Базова модель (логістична регресія): 90.22%\n",
    "Стекінг: 99.27%\n",
    "Бустінг (Gradient Boosting Classifier): 99.51%\n",
    "Беггінг (Bagging Classifier): 99.51%\n",
    "\"\"\"\n",
    "\n",
    "from sklearn.ensemble import BaggingClassifier\n",
    "from sklearn.metrics import accuracy_score\n",
    "\n",
    "# Тренування моделі беггінгу без явного вказівки base_estimator\n",
    "bagging_classifier = BaggingClassifier(n_estimators=100, random_state=42)\n",
    "bagging_classifier.fit(X_train, y_train)\n",
    "\n",
    "# Оцінка точності моделі беггінгу на валідаційному наборі\n",
    "y_pred_valid_bagging = bagging_classifier.predict(X_valid)\n",
    "bagging_model_accuracy = accuracy_score(y_valid, y_pred_valid_bagging)\n",
    "bagging_model_accuracy"
   ],
   "metadata": {
    "collapsed": false,
    "ExecuteTime": {
     "end_time": "2024-01-30T23:00:11.315725032Z",
     "start_time": "2024-01-30T23:00:11.067390384Z"
    }
   }
  },
  {
   "cell_type": "code",
   "execution_count": 11,
   "outputs": [],
   "source": [],
   "metadata": {
    "collapsed": false,
    "ExecuteTime": {
     "end_time": "2024-01-30T22:50:18.278301553Z",
     "start_time": "2024-01-30T22:50:18.271717130Z"
    }
   }
  },
  {
   "cell_type": "code",
   "execution_count": null,
   "outputs": [],
   "source": [],
   "metadata": {
    "collapsed": false
   }
  }
 ],
 "metadata": {
  "kernelspec": {
   "display_name": "Python 3",
   "language": "python",
   "name": "python3"
  },
  "language_info": {
   "codemirror_mode": {
    "name": "ipython",
    "version": 2
   },
   "file_extension": ".py",
   "mimetype": "text/x-python",
   "name": "python",
   "nbconvert_exporter": "python",
   "pygments_lexer": "ipython2",
   "version": "2.7.6"
  }
 },
 "nbformat": 4,
 "nbformat_minor": 0
}
